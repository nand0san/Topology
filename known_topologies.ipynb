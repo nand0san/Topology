{
 "cells": [
  {
   "cell_type": "code",
   "execution_count": 1,
   "id": "initial_id",
   "metadata": {
    "ExecuteTime": {
     "end_time": "2024-10-07T12:05:38.370200Z",
     "start_time": "2024-10-07T12:05:38.346355Z"
    }
   },
   "outputs": [],
   "source": [
    "from finite_topology.known_topologies import *"
   ]
  },
  {
   "cell_type": "markdown",
   "id": "524446b0d2013d54",
   "metadata": {},
   "source": [
    "### **Point Topology**\n",
    "Creates a topology with all subsets that contain a specific point within a given space."
   ]
  },
  {
   "cell_type": "code",
   "execution_count": 2,
   "id": "bedea0d677977418",
   "metadata": {
    "ExecuteTime": {
     "end_time": "2024-10-07T12:05:38.556209Z",
     "start_time": "2024-10-07T12:05:38.548668Z"
    }
   },
   "outputs": [
    {
     "name": "stdout",
     "output_type": "stream",
     "text": [
      "Is the collection a topology? True\n"
     ]
    }
   ],
   "source": [
    "# Define the space and the particular point\n",
    "space = {1, 2, 3}\n",
    "particular_point = 2\n",
    "\n",
    "# Create the topology\n",
    "particular_point_topo = create_particular_point_topology(space, particular_point)\n",
    "\n",
    "# Check if it's a valid topology\n",
    "print(f\"Is the collection a topology? {particular_point_topo.is_topology()}\")"
   ]
  },
  {
   "cell_type": "code",
   "execution_count": 3,
   "id": "68bd60d5d4180731",
   "metadata": {
    "ExecuteTime": {
     "end_time": "2024-10-07T12:05:39.215423Z",
     "start_time": "2024-10-07T12:05:39.195869Z"
    }
   },
   "outputs": [
    {
     "data": {
      "text/plain": [
       "Topology(\n",
       "  Space: [1, 2, 3],\n",
       "  Collection of Subsets:\n",
       "    [1, 2, 3]\n",
       "    []\n",
       "    [2]\n",
       "    [2, 3]\n",
       "    [1, 2]\n",
       ")"
      ]
     },
     "execution_count": 3,
     "metadata": {},
     "output_type": "execute_result"
    }
   ],
   "source": [
    "particular_point_topo"
   ]
  },
  {
   "cell_type": "code",
   "execution_count": 4,
   "id": "cf0012f857359f73",
   "metadata": {
    "ExecuteTime": {
     "end_time": "2024-10-07T12:05:39.370339Z",
     "start_time": "2024-10-07T12:05:39.362493Z"
    }
   },
   "outputs": [
    {
     "data": {
      "text/plain": [
       "[{2}, {2, 3}, {1, 2}]"
      ]
     },
     "execution_count": 4,
     "metadata": {},
     "output_type": "execute_result"
    }
   ],
   "source": [
    "particular_point_topo.get_basis()"
   ]
  },
  {
   "cell_type": "markdown",
   "id": "3145ac2c354603a4",
   "metadata": {},
   "source": [
    "### **Excluded Point Topology**\n",
    "Defines a topology in which every subset excluding a specific point forms the open sets of the topology."
   ]
  },
  {
   "cell_type": "code",
   "execution_count": 5,
   "id": "6850fbcf9538aee8",
   "metadata": {
    "ExecuteTime": {
     "end_time": "2024-10-07T12:05:39.617677Z",
     "start_time": "2024-10-07T12:05:39.608955Z"
    }
   },
   "outputs": [
    {
     "name": "stdout",
     "output_type": "stream",
     "text": [
      "Is the collection a topology? True\n"
     ]
    }
   ],
   "source": [
    "# Define the space and the excluded point\n",
    "space = {1, 2, 3}\n",
    "excluded_point = 3\n",
    "\n",
    "# Create the topology\n",
    "excluded_point_topo = create_excluded_point_topology(space, excluded_point)\n",
    "\n",
    "# Check if it's a valid topology\n",
    "print(f\"Is the collection a topology? {excluded_point_topo.is_topology()}\")"
   ]
  },
  {
   "cell_type": "code",
   "execution_count": 6,
   "id": "e962878f50e05c74",
   "metadata": {
    "ExecuteTime": {
     "end_time": "2024-10-07T12:05:39.749122Z",
     "start_time": "2024-10-07T12:05:39.741160Z"
    }
   },
   "outputs": [
    {
     "data": {
      "text/plain": [
       "Topology(\n",
       "  Space: [1, 2, 3],\n",
       "  Collection of Subsets:\n",
       "    [1, 2, 3]\n",
       "    []\n",
       "    [2]\n",
       "    [1]\n",
       "    [1, 2]\n",
       ")"
      ]
     },
     "execution_count": 6,
     "metadata": {},
     "output_type": "execute_result"
    }
   ],
   "source": [
    "excluded_point_topo"
   ]
  },
  {
   "cell_type": "code",
   "execution_count": 7,
   "id": "727ed0d050cab0fa",
   "metadata": {
    "ExecuteTime": {
     "end_time": "2024-10-07T12:05:39.890587Z",
     "start_time": "2024-10-07T12:05:39.881031Z"
    }
   },
   "outputs": [
    {
     "data": {
      "text/plain": [
       "[{2}, {1, 2, 3}, {1}]"
      ]
     },
     "execution_count": 7,
     "metadata": {},
     "output_type": "execute_result"
    }
   ],
   "source": [
    "excluded_point_topo.get_basis()"
   ]
  },
  {
   "cell_type": "markdown",
   "id": "372e5e320ed117f9",
   "metadata": {},
   "source": [
    "### **Divisibility Topology**\n",
    "A topology where subsets are formed by elements that are divisible by a given number.\n",
    "\n",
    "In fact, we can define a topology based on any equivalence or order relation if we follow certain \"standard\" steps."
   ]
  },
  {
   "cell_type": "code",
   "execution_count": 8,
   "id": "4044a5ebd683e8e3",
   "metadata": {
    "ExecuteTime": {
     "end_time": "2024-10-07T12:05:40.041991Z",
     "start_time": "2024-10-07T12:05:40.031751Z"
    }
   },
   "outputs": [
    {
     "name": "stdout",
     "output_type": "stream",
     "text": [
      "Is the collection a topology? True\n"
     ]
    }
   ],
   "source": [
    "# Define the space\n",
    "space = {1, 2, 3, 4, 6}\n",
    "\n",
    "# Create the topology\n",
    "divisibility_topo = create_divisibility_topology(space)\n",
    "\n",
    "# Check if it's a valid topology\n",
    "print(f\"Is the collection a topology? {divisibility_topo.is_topology()}\")"
   ]
  },
  {
   "cell_type": "code",
   "execution_count": 9,
   "id": "656e1b73373db043",
   "metadata": {
    "ExecuteTime": {
     "end_time": "2024-10-07T12:05:40.117842Z",
     "start_time": "2024-10-07T12:05:40.109114Z"
    }
   },
   "outputs": [
    {
     "data": {
      "text/plain": [
       "Topology(\n",
       "  Space: [1, 2, 3, 4, 6],\n",
       "  Collection of Subsets:\n",
       "    [1, 2, 3, 4, 6]\n",
       "    []\n",
       "    [6]\n",
       "    [4]\n",
       "    [4, 6]\n",
       "    [3, 6]\n",
       "    [2, 4, 6]\n",
       "    [3, 4, 6]\n",
       "    [2, 3, 4, 6]\n",
       ")"
      ]
     },
     "execution_count": 9,
     "metadata": {},
     "output_type": "execute_result"
    }
   ],
   "source": [
    "divisibility_topo"
   ]
  },
  {
   "cell_type": "markdown",
   "id": "72c81a14725fb999",
   "metadata": {},
   "source": [
    "\n",
    "### **Topology from a Partial Order Relation**\n",
    "A topology can be created using any order relation.\n",
    "\n",
    "In a partially ordered set $(P, \\leq)$, a subset $U \\subseteq P$ is **upward-closed** if, for each element $x \\in U$, every element $y \\in P$ that satisfies $x \\leq y$ also belongs to $U$. Formally:\n",
    "\n",
    "$$\n",
    "\\forall x \\in U, \\; \\forall y \\in P, \\; (x \\leq y) \\implies y \\in U\n",
    "$$\n",
    "\n",
    "In other words, if an element is in $U$, all elements \"greater than\" it in the order are also in $U$."
   ]
  },
  {
   "cell_type": "code",
   "execution_count": 10,
   "id": "de04bdeb52b37131",
   "metadata": {
    "ExecuteTime": {
     "end_time": "2024-10-07T12:05:40.194721Z",
     "start_time": "2024-10-07T12:05:40.185529Z"
    }
   },
   "outputs": [
    {
     "name": "stdout",
     "output_type": "stream",
     "text": [
      "Is the collection a topology? True\n"
     ]
    }
   ],
   "source": [
    "# Define the space and the partial order\n",
    "space = {1, 2, 3}\n",
    "order_relation = {\n",
    "    1: {1, 2, 3},\n",
    "    2: {2, 3},\n",
    "    3: {3}\n",
    "}\n",
    "\n",
    "# Create the topology\n",
    "upward_closed_topo = create_upward_closed_topology(space, order_relation)\n",
    "\n",
    "# Check if it's a valid topology\n",
    "print(f\"Is the collection a topology? {upward_closed_topo.is_topology()}\")"
   ]
  },
  {
   "cell_type": "code",
   "execution_count": 11,
   "id": "b6e91038104fe6fc",
   "metadata": {
    "ExecuteTime": {
     "end_time": "2024-10-07T12:05:40.247758Z",
     "start_time": "2024-10-07T12:05:40.239884Z"
    }
   },
   "outputs": [
    {
     "data": {
      "text/plain": [
       "Topology(\n",
       "  Space: [1, 2, 3],\n",
       "  Collection of Subsets:\n",
       "    [1, 2, 3]\n",
       "    []\n",
       "    [3]\n",
       "    [2, 3]\n",
       ")"
      ]
     },
     "execution_count": 11,
     "metadata": {},
     "output_type": "execute_result"
    }
   ],
   "source": [
    "upward_closed_topo"
   ]
  },
  {
   "cell_type": "markdown",
   "id": "4c5cf165a39cc4aa",
   "metadata": {},
   "source": [
    "### **Can a Topology be Generated from Any Equivalence or Order Relation?**\n",
    "**In a finite space, can each equivalence or order relation define a topology?**\n",
    "\n",
    "- **Equivalence Relations**:\n",
    "  - Each equivalence relation on a set divides the set into disjoint equivalence classes.\n",
    "  - From these equivalence classes, we can define a topology called a **quotient topology**.\n",
    "  - In finite spaces, we can use the equivalence classes to build open sets and define a topology based on the partition.\n",
    "\n",
    "- **Order Relations**:\n",
    "  - Each order relation (particularly partial orders) can be used to define a topology.\n",
    "  - For finite partially ordered sets (posets), the **Alexandrov topology** is often used.\n",
    "  - In the Alexandrov topology, the open sets are all upward-closed sets.\n",
    "\n"
   ]
  },
  {
   "cell_type": "markdown",
   "id": "20ebf4d0c7d4b86a",
   "metadata": {},
   "source": [
    "### **Topology Generated from an Equivalence Relation**\n",
    "In mathematics, we can define a topology using an equivalence relation as follows:\n",
    "\n",
    "- **Quotient Topology**:\n",
    "  - The set of equivalence classes $X/\\sim$ forms the quotient set.\n",
    "  - We can define a topology on $X/\\sim$ by stating that the subsets of $X/\\sim$ are open if and only if their inverse images under the natural projection are open in $X$.\n",
    "  - In the context of finite sets, each equivalence class can be considered as an open set.\n",
    "\n",
    "- **Partition Topology**:\n",
    "  - Alternatively, we can define a topology on $X$ where the open sets are unions of equivalence classes.\n",
    "  - This topology has the equivalence classes as its minimal non-empty open sets.\n",
    "\n",
    "**Example**:\n",
    "\n",
    "Suppose $X = \\{1, 2, 3, 4\\}$ with the equivalence relation defined as:\n",
    "\n",
    "- $1 \\sim 2$\n",
    "- $3 \\sim 4$\n",
    "\n",
    "Equivalence classes:\n",
    "\n",
    "- $[1] = \\{1, 2\\}$\n",
    "- $[3] = \\{3, 4\\}$\n",
    "\n",
    "**Generated Topology**:\n",
    "\n",
    "- Open sets: $\\emptyset$, $\\{1, 2\\}$, $\\{3, 4\\}$, $\\{1, 2, 3, 4\\}$\n",
    "- This topology is the coarsest where each equivalence class is open.\n"
   ]
  },
  {
   "cell_type": "code",
   "execution_count": 12,
   "id": "a3e3bbdb313d5e5b",
   "metadata": {
    "ExecuteTime": {
     "end_time": "2024-10-07T12:05:40.285006Z",
     "start_time": "2024-10-07T12:05:40.277847Z"
    }
   },
   "outputs": [
    {
     "name": "stdout",
     "output_type": "stream",
     "text": [
      "Is the collection a topology? True\n"
     ]
    }
   ],
   "source": [
    "# Define the space\n",
    "space = {1, 2, 3, 4}\n",
    "\n",
    "# Define the equivalence relation\n",
    "def equivalence_relation(x, y):\n",
    "    return (x % 2) == (y % 2)  # Elements are equivalent if they have the same parity\n",
    "\n",
    "# Create the topology\n",
    "equivalence_topo = create_topology_from_equivalence(space, equivalence_relation)\n",
    "\n",
    "# Check if it's a valid topology\n",
    "print(f\"Is the collection a topology? {equivalence_topo.is_topology()}\")"
   ]
  },
  {
   "cell_type": "code",
   "execution_count": 13,
   "id": "e1717795776d1fcf",
   "metadata": {
    "ExecuteTime": {
     "end_time": "2024-10-07T12:05:40.348384Z",
     "start_time": "2024-10-07T12:05:40.342029Z"
    }
   },
   "outputs": [
    {
     "data": {
      "text/plain": [
       "Topology(\n",
       "  Space: [1, 2, 3, 4],\n",
       "  Collection of Subsets:\n",
       "    [1, 2, 3, 4]\n",
       "    []\n",
       "    [2, 4]\n",
       "    [1, 3]\n",
       ")"
      ]
     },
     "execution_count": 13,
     "metadata": {},
     "output_type": "execute_result"
    }
   ],
   "source": [
    "equivalence_topo"
   ]
  },
  {
   "cell_type": "markdown",
   "id": "d1736e0c8cf1f9b5",
   "metadata": {},
   "source": [
    "\n",
    "### **Topologies from Order Relations: Alexandrov**\n",
    "An **order relation** can be used to define a topology on a set $X$.\n",
    "\n",
    "- **Alexandrov Topology (Finite Posets)**:\n",
    "  - **Open Sets**: All upper sets in the poset.\n",
    "    - An upper set $U \\subseteq X$ satisfies: If $x \\in U$ and $x \\leq y$, then $y \\in U$.\n",
    "  - **Closed Sets**: All lower sets.\n",
    "    - A lower set $L \\subseteq X$ satisfies: If $x \\in L$ and $y \\leq x$, then $y \\in L$.\n",
    "\n",
    "**Example**:\n",
    "\n",
    "Let $X = \\{1, 2, 3\\}$ with the order $1 < 2 < 3$.\n",
    "\n",
    "- **Upper Sets**:\n",
    "  - $\\emptyset$\n",
    "  - $\\{3\\}$\n",
    "  - $\\{2, 3\\}$\n",
    "  - $\\{1, 2, 3\\}$\n",
    "\n",
    "- **Generated Topology**:\n",
    "  - The open sets are the listed upper sets."
   ]
  },
  {
   "cell_type": "code",
   "execution_count": 14,
   "id": "b0360b51e82ca55d",
   "metadata": {
    "ExecuteTime": {
     "end_time": "2024-10-07T12:05:40.378936Z",
     "start_time": "2024-10-07T12:05:40.369701Z"
    }
   },
   "outputs": [
    {
     "name": "stdout",
     "output_type": "stream",
     "text": [
      "Is the collection a topology? True\n"
     ]
    }
   ],
   "source": [
    "# Define the space\n",
    "space = {1, 2, 3}\n",
    "\n",
    "# Define the order relation\n",
    "def order_relation(x, y):\n",
    "    return x <= y  # Standard less than or equal\n",
    "\n",
    "# Create the topology\n",
    "alexandrov_topo = create_alexandrov_topology(space, order_relation)\n",
    "\n",
    "# Check if it's a valid topology\n",
    "print(f\"Is the collection a topology? {alexandrov_topo.is_topology()}\")"
   ]
  },
  {
   "cell_type": "code",
   "execution_count": 15,
   "id": "24cbfcca3dedc5d6",
   "metadata": {
    "ExecuteTime": {
     "end_time": "2024-10-07T12:05:40.444379Z",
     "start_time": "2024-10-07T12:05:40.435849Z"
    }
   },
   "outputs": [
    {
     "data": {
      "text/plain": [
       "Topology(\n",
       "  Space: [1, 2, 3],\n",
       "  Collection of Subsets:\n",
       "    [1, 2, 3]\n",
       "    []\n",
       "    [3]\n",
       "    [2, 3]\n",
       ")"
      ]
     },
     "execution_count": 15,
     "metadata": {},
     "output_type": "execute_result"
    }
   ],
   "source": [
    "alexandrov_topo"
   ]
  },
  {
   "cell_type": "code",
   "execution_count": null,
   "id": "5e41f9336661abd9",
   "metadata": {
    "ExecuteTime": {
     "end_time": "2024-10-07T12:05:40.518999Z",
     "start_time": "2024-10-07T12:05:40.514984Z"
    }
   },
   "outputs": [],
   "source": []
  }
 ],
 "metadata": {
  "kernelspec": {
   "display_name": "Python 3 (ipykernel)",
   "language": "python",
   "name": "python3"
  },
  "language_info": {
   "codemirror_mode": {
    "name": "ipython",
    "version": 3
   },
   "file_extension": ".py",
   "mimetype": "text/x-python",
   "name": "python",
   "nbconvert_exporter": "python",
   "pygments_lexer": "ipython3",
   "version": "3.11.2"
  }
 },
 "nbformat": 4,
 "nbformat_minor": 5
}
