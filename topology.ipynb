{
 "cells": [
  {
   "cell_type": "code",
   "execution_count": 1,
   "id": "initial_id",
   "metadata": {},
   "outputs": [],
   "source": [
    "from finite_topology.topology import Topology"
   ]
  },
  {
   "cell_type": "code",
   "execution_count": 2,
   "id": "7808b75e-7a74-4921-9056-2d0d2319d2ef",
   "metadata": {},
   "outputs": [],
   "source": [
    "from finite_topology.known_topologies import create_discrete_topology, create_trivial_topology, create_sierpinski_topology"
   ]
  },
  {
   "cell_type": "markdown",
   "id": "438ad8ab869c857b",
   "metadata": {},
   "source": [
    "# Understanding and Using the `Topology` Class\n",
    "\n",
    "This notebook provides an introduction to the `Topology` class, which is designed for creating and exploring topological spaces on finite sets. The aim is to help students and researchers understand fundamental topological concepts through computational examples. We will create various types of topologies, investigate their properties, and interactively explore how topological operations are performed.\n",
    "\n",
    "**Goals of this Notebook:**\n",
    "- Introduce the concept of a topology and how it can be implemented computationally.\n",
    "- Demonstrate how to create different types of topologies (e.g., discrete, trivial, Alexandrov).\n",
    "- Explore topological properties such as compactness, connectedness, and separation axioms.\n",
    "  \n",
    "This approach will help make abstract concepts tangible and will offer hands-on learning for anyone interested in topology.\n"
   ]
  },
  {
   "cell_type": "code",
   "execution_count": 3,
   "id": "783b5e1f8d9b1002",
   "metadata": {},
   "outputs": [],
   "source": [
    "space = {1, 2, 3}\n",
    "collection_of_subsets = [\n",
    "    set(),          # Empty set\n",
    "    {1, 2, 3},      # Total space\n",
    "    {1}, {2},\n",
    "    {1, 2}, {2, 3}\n",
    "]"
   ]
  },
  {
   "cell_type": "code",
   "execution_count": 4,
   "id": "1308fbb3fe8a6149",
   "metadata": {},
   "outputs": [
    {
     "data": {
      "text/plain": [
       "True"
      ]
     },
     "execution_count": 4,
     "metadata": {},
     "output_type": "execute_result"
    }
   ],
   "source": [
    "topo = Topology(space, collection_of_subsets)\n",
    "topo.is_topology()"
   ]
  },
  {
   "cell_type": "code",
   "execution_count": 5,
   "id": "8a94c3ce87810335",
   "metadata": {},
   "outputs": [
    {
     "data": {
      "text/plain": [
       "Topology(\n",
       "  Space: [1, 2, 3],\n",
       "  Collection of Subsets:\n",
       "    [1, 2, 3]\n",
       "    []\n",
       "    [2]\n",
       "    [1]\n",
       "    [2, 3]\n",
       "    [1, 2]\n",
       ")"
      ]
     },
     "execution_count": 5,
     "metadata": {},
     "output_type": "execute_result"
    }
   ],
   "source": [
    "topo"
   ]
  },
  {
   "cell_type": "code",
   "execution_count": 6,
   "id": "39d66aaa2a82d2fb",
   "metadata": {},
   "outputs": [
    {
     "data": {
      "text/plain": [
       "[{2}, {2, 3}, {1}]"
      ]
     },
     "execution_count": 6,
     "metadata": {},
     "output_type": "execute_result"
    }
   ],
   "source": [
    "topo.get_basis()"
   ]
  },
  {
   "cell_type": "code",
   "execution_count": 7,
   "id": "d62999965f8b6dfe",
   "metadata": {},
   "outputs": [
    {
     "data": {
      "text/plain": [
       "False"
      ]
     },
     "execution_count": 7,
     "metadata": {},
     "output_type": "execute_result"
    }
   ],
   "source": [
    "topo.is_discrete()"
   ]
  },
  {
   "cell_type": "markdown",
   "id": "89acf1f192846938",
   "metadata": {},
   "source": [
    "### Adding Sets to a Topology\n",
    "\n",
    "Once a `Topology` instance is created, it is often useful to add new sets to the collection of subsets that form the topology. This is equivalent to expanding the number of open sets available in the topological structure. \n",
    "\n",
    "In this section, we'll demonstrate how to use the `add_set()` method to include new sets in the existing topology and discuss the implications of such additions on the validity of the topological structure.\n",
    "\n",
    "The `add_set(new_set)` method attempts to add a new subset to the current topology. If the new set can be added without violating the rules of a topology, it will be included and the topology will be updated accordingly. If it cannot be added, the function will notify you and the topology will remain unchanged.\n",
    "\n",
    "Let's see this process in action.\n"
   ]
  },
  {
   "cell_type": "code",
   "execution_count": 8,
   "id": "23cd88cd87fa524f",
   "metadata": {},
   "outputs": [
    {
     "name": "stdout",
     "output_type": "stream",
     "text": [
      "Added the set {1, 3} to the collection.\n",
      "The intersection {3} is not in the collection.\n",
      "After adding, the collection is no longer a topology.\n"
     ]
    },
    {
     "data": {
      "text/plain": [
       "False"
      ]
     },
     "execution_count": 8,
     "metadata": {},
     "output_type": "execute_result"
    }
   ],
   "source": [
    "topo.add_set({1, 3})"
   ]
  },
  {
   "cell_type": "code",
   "execution_count": 9,
   "id": "af61b364fd68801c",
   "metadata": {},
   "outputs": [
    {
     "name": "stdout",
     "output_type": "stream",
     "text": [
      "The intersection {3} is not in the collection.\n"
     ]
    },
    {
     "data": {
      "text/plain": [
       "Set(\n",
       "  Space: [1, 2, 3],\n",
       "  Collection of Subsets:\n",
       "    [1, 2, 3]\n",
       "    []\n",
       "    [2]\n",
       "    [1]\n",
       "    [2, 3]\n",
       "    [1, 2]\n",
       "    [1, 3]\n",
       ")"
      ]
     },
     "execution_count": 9,
     "metadata": {},
     "output_type": "execute_result"
    }
   ],
   "source": [
    "topo"
   ]
  },
  {
   "cell_type": "code",
   "execution_count": 10,
   "id": "3fecaa9f475e0ba0",
   "metadata": {},
   "outputs": [
    {
     "data": {
      "text/plain": [
       "True"
      ]
     },
     "execution_count": 10,
     "metadata": {},
     "output_type": "execute_result"
    }
   ],
   "source": [
    "# reset data for next operations\n",
    "topo = Topology(space, collection_of_subsets)\n",
    "topo.is_topology()"
   ]
  },
  {
   "cell_type": "markdown",
   "id": "3a92e8700aed14a3",
   "metadata": {},
   "source": [
    "### Comparing Topologies\n",
    "\n",
    "Comparing different topologies is a fundamental aspect of understanding their properties and relationships. In this section, we will explore how to determine if two given topologies are structurally equivalent, even if their underlying sets differ. This is particularly useful when studying homeomorphisms and understanding when two spaces can be considered \"topologically the same.\"\n",
    "\n",
    "The `is_structurally_equal(other)` method allows us to compare two instances of the `Topology` class to see if they share the same structure. This involves checking whether there is a correspondence between their open sets that preserves the relationships among points. \n",
    "\n",
    "Let's delve into how we can perform these comparisons and what it means for two topologies to be structurally equal.\n"
   ]
  },
  {
   "cell_type": "code",
   "execution_count": 11,
   "id": "4dc24e321548f83b",
   "metadata": {},
   "outputs": [
    {
     "data": {
      "text/plain": [
       "False"
      ]
     },
     "execution_count": 11,
     "metadata": {},
     "output_type": "execute_result"
    }
   ],
   "source": [
    "# Second topology\n",
    "space2 = {'a', 'b', 'c'}\n",
    "collection2 = [\n",
    "    set(),\n",
    "    {'a'}, {'b'},\n",
    "    {'a', 'b', 'c'},\n",
    "    {'a', 'b'}, {'b', 'c'}\n",
    "]\n",
    "topo2 = Topology(space2, collection2)\n",
    "topo2.is_discrete()"
   ]
  },
  {
   "cell_type": "code",
   "execution_count": 12,
   "id": "f64019d01f6d710b",
   "metadata": {},
   "outputs": [
    {
     "name": "stdout",
     "output_type": "stream",
     "text": [
      "Topology 1:\n",
      "Topology(\n",
      "  Space: [1, 2, 3],\n",
      "  Collection of Subsets:\n",
      "    [1, 2, 3]\n",
      "    []\n",
      "    [2]\n",
      "    [1]\n",
      "    [2, 3]\n",
      "    [1, 2]\n",
      ")\n",
      "Topology 2:\n",
      "Topology(\n",
      "  Space: ['a', 'b', 'c'],\n",
      "  Collection of Subsets:\n",
      "    ['a', 'b', 'c']\n",
      "    []\n",
      "    ['b']\n",
      "    ['a']\n",
      "    ['b', 'c']\n",
      "    ['a', 'b']\n",
      ")\n"
     ]
    }
   ],
   "source": [
    "print(f\"Topology 1:\\n{topo}\")\n",
    "print(f\"Topology 2:\\n{topo2}\")"
   ]
  },
  {
   "cell_type": "code",
   "execution_count": 13,
   "id": "9b36a5c3ec9b85da",
   "metadata": {},
   "outputs": [
    {
     "name": "stdout",
     "output_type": "stream",
     "text": [
      "Are the two topologies structurally equal? True\n"
     ]
    }
   ],
   "source": [
    "print(f\"Are the two topologies structurally equal? {topo.is_structurally_equal(topo2)}\")"
   ]
  },
  {
   "cell_type": "markdown",
   "id": "ce4e55393f7a6d3a",
   "metadata": {},
   "source": [
    "### Homeomorphisms\n",
    "\n",
    "A homeomorphism is a powerful concept in topology that captures the idea of two spaces being \"essentially the same\" from a topological perspective. A **homeomorphism** is a bijective, continuous function whose inverse is also continuous. If such a function exists between two topological spaces, we say that they are **homeomorphic**.\n",
    "\n",
    "In practical terms, two homeomorphic spaces have the same topological properties, such as connectedness and compactness, but they may look different geometrically.\n",
    "\n",
    "Here, we will use the `is_homeomorphism()` method from our `ContinuousFunction` class to determine if a function between two topologies is a homeomorphism. This involves checking that the function is bijective, continuous, and that its inverse is also continuous.\n",
    "\n",
    "Let's see an example of how we can establish if two topologies are homeomorphic.\n"
   ]
  },
  {
   "cell_type": "code",
   "execution_count": 14,
   "id": "6485d1de85df5fe9",
   "metadata": {},
   "outputs": [
    {
     "data": {
      "text/plain": [
       "True"
      ]
     },
     "execution_count": 14,
     "metadata": {},
     "output_type": "execute_result"
    }
   ],
   "source": [
    "create_discrete_topology({0, 1, 2, 3}) == create_discrete_topology({\"a\", 1, 2, 3})"
   ]
  },
  {
   "cell_type": "code",
   "execution_count": 15,
   "id": "75b58c51df9cf734",
   "metadata": {},
   "outputs": [],
   "source": [
    "known_topologies = {\n",
    "    \"Discrete Topology (2 elements)\": create_discrete_topology({0, 1}),\n",
    "    \"Trivial Topology (2 elements)\": create_trivial_topology({0, 1}),\n",
    "    \"Sierpiński Topology\": create_sierpinski_topology()\n",
    "}"
   ]
  },
  {
   "cell_type": "code",
   "execution_count": 16,
   "id": "7bb27de8bcb54bf0",
   "metadata": {},
   "outputs": [
    {
     "data": {
      "text/plain": [
       "True"
      ]
     },
     "execution_count": 16,
     "metadata": {},
     "output_type": "execute_result"
    }
   ],
   "source": [
    "# Define your topology\n",
    "space = {1, 2}\n",
    "collection_of_subsets = [\n",
    "    set(),          # Empty set\n",
    "    {1, 2},         # Total space\n",
    "    {1}\n",
    "]\n",
    "my_topology = Topology(space, collection_of_subsets)\n",
    "\n",
    "# Check if it's a valid topology\n",
    "my_topology.is_topology()"
   ]
  },
  {
   "cell_type": "code",
   "execution_count": 17,
   "id": "9925b071dbb00558",
   "metadata": {},
   "outputs": [
    {
     "data": {
      "text/plain": [
       "[{1}, {1, 2}]"
      ]
     },
     "execution_count": 17,
     "metadata": {},
     "output_type": "execute_result"
    }
   ],
   "source": [
    "my_topology.get_basis()"
   ]
  },
  {
   "cell_type": "code",
   "execution_count": 18,
   "id": "373c99c2e2987dcd",
   "metadata": {},
   "outputs": [
    {
     "name": "stdout",
     "output_type": "stream",
     "text": [
      "The topology is homeomorphic to: Sierpiński Topology\n"
     ]
    }
   ],
   "source": [
    "# Identify the topology\n",
    "matches = my_topology.identify_topology(known_topologies)\n",
    "if matches:\n",
    "    print(f\"The topology is homeomorphic to: {', '.join(matches)}\")\n",
    "else:\n",
    "    print(\"The topology does not match any known topologies.\")"
   ]
  },
  {
   "cell_type": "markdown",
   "id": "693fe2db0a156cbc",
   "metadata": {},
   "source": [
    "### Bases for a Topology\n",
    "\n",
    "In topology, a **basis** is a fundamental concept used to define the structure of a topological space. A **basis** for a topology \\( \\tau \\) on a set \\( X \\) is a collection of open sets \\( \\mathcal{B} \\) such that every open set in \\( \\tau \\) can be written as a union of sets in \\( \\mathcal{B} \\). This means that, instead of listing all the open sets, we can describe a topology by specifying a collection of \"building blocks\" from which all open sets can be formed.\n",
    "\n",
    "Formally:\n",
    "\n",
    "$$\n",
    "\\forall U \\in \\tau, \\quad \\exists \\{ B_i \\}_{i \\in I} \\subseteq \\mathcal{B}, \\quad U = \\bigcup_{i \\in I} B_i\n",
    "$$\n",
    "\n",
    "In this section, we will explore how to compute and interpret bases for different topologies using our `Topology` class. Understanding bases helps us to grasp the underlying structure of the topology and to simplify many proofs and operations.\n",
    "\n",
    "Let's see how we can compute the basis for a given topology and how it helps us understand the space better.\n"
   ]
  },
  {
   "cell_type": "code",
   "execution_count": 19,
   "id": "7ae7b6546876fbbf",
   "metadata": {},
   "outputs": [
    {
     "data": {
      "text/plain": [
       "True"
      ]
     },
     "execution_count": 19,
     "metadata": {},
     "output_type": "execute_result"
    }
   ],
   "source": [
    "# Define the topology\n",
    "space = {1, 2, 3}\n",
    "collection_of_subsets = [\n",
    "    set(),          # Empty set\n",
    "    {1, 2, 3},      # Total space\n",
    "    {1}, {2}, {3},\n",
    "    {1, 2}, {2, 3}, {1, 3}\n",
    "]\n",
    "\n",
    "# Create the topology instance\n",
    "topo = Topology(space, collection_of_subsets)\n",
    "topo.is_topology()"
   ]
  },
  {
   "cell_type": "code",
   "execution_count": 20,
   "id": "7ce92750f04c656f",
   "metadata": {},
   "outputs": [
    {
     "data": {
      "text/plain": [
       "True"
      ]
     },
     "execution_count": 20,
     "metadata": {},
     "output_type": "execute_result"
    }
   ],
   "source": [
    "topo.is_discrete()"
   ]
  },
  {
   "cell_type": "code",
   "execution_count": 21,
   "id": "ed26c1c98e8d512a",
   "metadata": {},
   "outputs": [
    {
     "name": "stdout",
     "output_type": "stream",
     "text": [
      "Basis of the topology:\n",
      "{2}\n",
      "{3}\n",
      "{1}\n"
     ]
    }
   ],
   "source": [
    "# Get the basis of the topology\n",
    "basis = topo.get_basis()\n",
    "\n",
    "# Print the basis\n",
    "print(\"Basis of the topology:\")\n",
    "for b in basis:\n",
    "    print(b)"
   ]
  },
  {
   "cell_type": "markdown",
   "id": "c49de03d8e1963a8",
   "metadata": {},
   "source": [
    "### Complex Example: Constructing a Custom Topology\n",
    "\n",
    "Now, let's work through a more complex example to deepen our understanding of topological concepts. We will create a topology using a specific set and explore its properties, \n",
    "including continuity of functions, basis formation, and checking if it meets certain topological criteria (such as $T_0$, $T_1$, or compactness).\n",
    "\n",
    "In this example, we'll:\n",
    "\n",
    "1. Define a set $X = \\{a, b, c, d\\}$ and create different types of topologies on it (e.g., discrete, trivial).\n",
    "2. Explore the **particular point topology**, where a specific point must be included in every open set, except for the empty set.\n",
    "3. Investigate how different topologies relate by comparing their properties using the `is_T0()` and `is_T1()` methods.\n",
    "4. Use continuous functions to study how we can map between these topologies and verify whether such mappings are **continuous** or even **homeomorphisms**.\n",
    "\n",
    "This example is designed to help us move from simpler cases to more intricate scenarios, illustrating how different topological properties interact. Let's begin by defining our base set and constructing various topologies on it.\n"
   ]
  },
  {
   "cell_type": "code",
   "execution_count": 22,
   "id": "7e1a834cd135fedc",
   "metadata": {},
   "outputs": [
    {
     "name": "stdout",
     "output_type": "stream",
     "text": [
      "Is a topology: True\n"
     ]
    }
   ],
   "source": [
    "# Define a more complex topology\n",
    "space = {1, 2, 3, 4}\n",
    "collection_of_subsets = [\n",
    "    set(),\n",
    "    {1, 2, 3, 4},\n",
    "    {1},\n",
    "    {2},\n",
    "    {3},\n",
    "    {4},\n",
    "    {1, 2}, {1, 3}, {1, 4}, {2, 4}, \n",
    "    {2, 3},\n",
    "    {3, 4}, \n",
    "    {1, 2, 3}, {2, 3, 4}, {1, 2, 4}, {1, 3, 4},\n",
    "]\n",
    "\n",
    "# Create the topology instance\n",
    "complex_topo = Topology(space, collection_of_subsets)\n",
    "print(f\"Is a topology: {complex_topo.is_topology()}\")"
   ]
  },
  {
   "cell_type": "code",
   "execution_count": 23,
   "id": "1acf9c909ab7c259",
   "metadata": {},
   "outputs": [
    {
     "data": {
      "text/plain": [
       "True"
      ]
     },
     "execution_count": 23,
     "metadata": {},
     "output_type": "execute_result"
    }
   ],
   "source": [
    "complex_topo.is_discrete()"
   ]
  },
  {
   "cell_type": "code",
   "execution_count": 24,
   "id": "45cb56b78b9c3604",
   "metadata": {},
   "outputs": [
    {
     "data": {
      "text/plain": [
       "True"
      ]
     },
     "execution_count": 24,
     "metadata": {},
     "output_type": "execute_result"
    }
   ],
   "source": [
    "dis = create_discrete_topology({0, 1, 2, 3})\n",
    "dis.is_discrete()"
   ]
  },
  {
   "cell_type": "code",
   "execution_count": 25,
   "id": "db7583e6c815d799",
   "metadata": {},
   "outputs": [
    {
     "data": {
      "text/plain": [
       "True"
      ]
     },
     "execution_count": 25,
     "metadata": {},
     "output_type": "execute_result"
    }
   ],
   "source": [
    "dis == complex_topo"
   ]
  },
  {
   "cell_type": "code",
   "execution_count": 26,
   "id": "fb26fa44562d6f66",
   "metadata": {},
   "outputs": [
    {
     "data": {
      "text/plain": [
       "True"
      ]
     },
     "execution_count": 26,
     "metadata": {},
     "output_type": "execute_result"
    }
   ],
   "source": [
    "complex_topo.is_structurally_equal(dis)"
   ]
  },
  {
   "cell_type": "code",
   "execution_count": 27,
   "id": "c72f92b658fb77aa",
   "metadata": {},
   "outputs": [
    {
     "data": {
      "text/plain": [
       "Topology(\n",
       "  Space: [1, 2, 3, 4],\n",
       "  Collection of Subsets:\n",
       "    [1, 2, 3, 4]\n",
       "    []\n",
       "    [2]\n",
       "    [3]\n",
       "    [1]\n",
       "    [4]\n",
       "    [3, 4]\n",
       "    [1, 4]\n",
       "    [2, 3]\n",
       "    [1, 2]\n",
       "    [2, 4]\n",
       "    [1, 3]\n",
       "    [2, 3, 4]\n",
       "    [1, 2, 4]\n",
       "    [1, 2, 3]\n",
       "    [1, 3, 4]\n",
       ")"
      ]
     },
     "execution_count": 27,
     "metadata": {},
     "output_type": "execute_result"
    }
   ],
   "source": [
    "complex_topo"
   ]
  },
  {
   "cell_type": "markdown",
   "id": "c99700dfa9bb4613",
   "metadata": {},
   "source": [
    "### Different Bases but Same Topology\n",
    "\n",
    "In topology, a **basis** is a collection of open sets that can be used to generate the entire topology by taking unions. Different bases can define the same topology if their unions produce identical collections of open sets.\n",
    "\n",
    "For example, consider the set \\( X = \\{a, b, c\\} \\). We can define different bases on \\( X \\) which generate the same topological structure:\n",
    "\n",
    "- **Basis 1**: $\\mathcal{B}_1 = \\{ \\{a\\}, \\{b\\}, \\{a, b, c\\} \\}$\n",
    "- **Basis 2**: $\\mathcal{B}_2 = \\{ \\{b\\}, \\{c\\}, \\{a, b, c\\} \\}$\n",
    "\n",
    "Even though the elements in these bases are different, their union produces the same collection of open sets in the topology. Therefore, both bases define the same topology on \\( X \\).\n",
    "\n",
    "This concept illustrates an important aspect of topology: there are often multiple ways to describe the same underlying structure. In practice, finding a suitable basis can simplify many operations, such as verifying continuity or constructing new topologies.\n",
    "\n",
    "In the next cell, we will compare two different bases for a given set and demonstrate that they generate identical topologies.\n"
   ]
  },
  {
   "cell_type": "code",
   "execution_count": 28,
   "id": "c3e49ea429ce2644",
   "metadata": {},
   "outputs": [
    {
     "data": {
      "text/plain": [
       "[{2}, {3}, {1}, {4}]"
      ]
     },
     "execution_count": 28,
     "metadata": {},
     "output_type": "execute_result"
    }
   ],
   "source": [
    "# Get the basis\n",
    "basis_complex = complex_topo.get_basis()\n",
    "basis_complex"
   ]
  },
  {
   "cell_type": "code",
   "execution_count": 29,
   "id": "38f6409ef505ab56",
   "metadata": {},
   "outputs": [
    {
     "data": {
      "text/plain": [
       "[{2}, {3}, {1}, {0}]"
      ]
     },
     "execution_count": 29,
     "metadata": {},
     "output_type": "execute_result"
    }
   ],
   "source": [
    "dis.get_basis()"
   ]
  },
  {
   "cell_type": "code",
   "execution_count": 30,
   "id": "580602d33e2dc2c3",
   "metadata": {},
   "outputs": [
    {
     "data": {
      "text/plain": [
       "True"
      ]
     },
     "execution_count": 30,
     "metadata": {},
     "output_type": "execute_result"
    }
   ],
   "source": [
    "complex_topo == dis"
   ]
  },
  {
   "cell_type": "code",
   "execution_count": null,
   "id": "37b15bb66c9cb66a",
   "metadata": {},
   "outputs": [],
   "source": []
  }
 ],
 "metadata": {
  "kernelspec": {
   "display_name": "Python 3 (ipykernel)",
   "language": "python",
   "name": "python3"
  },
  "language_info": {
   "codemirror_mode": {
    "name": "ipython",
    "version": 3
   },
   "file_extension": ".py",
   "mimetype": "text/x-python",
   "name": "python",
   "nbconvert_exporter": "python",
   "pygments_lexer": "ipython3",
   "version": "3.11.2"
  }
 },
 "nbformat": 4,
 "nbformat_minor": 5
}
