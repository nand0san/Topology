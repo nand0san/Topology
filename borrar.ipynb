{
 "cells": [
  {
   "cell_type": "code",
   "id": "initial_id",
   "metadata": {
    "collapsed": true,
    "ExecuteTime": {
     "end_time": "2024-10-13T18:27:49.461781Z",
     "start_time": "2024-10-13T18:27:49.451765Z"
    }
   },
   "source": [
    "from finite_topology.topology import Topology\n",
    "from finite_topology.functions import Function"
   ],
   "outputs": [],
   "execution_count": 1
  },
  {
   "metadata": {
    "ExecuteTime": {
     "end_time": "2024-10-13T18:27:49.468811Z",
     "start_time": "2024-10-13T18:27:49.465787Z"
    }
   },
   "cell_type": "code",
   "source": [
    "space_x = {1,2,3,4}\n",
    "topo_x = Topology(space=space_x, collection_of_subsets= [set(), {1,2,3,4}, {1,2}])"
   ],
   "id": "45e145f3d8313f7c",
   "outputs": [],
   "execution_count": 2
  },
  {
   "metadata": {
    "ExecuteTime": {
     "end_time": "2024-10-13T18:27:49.593927Z",
     "start_time": "2024-10-13T18:27:49.588760Z"
    }
   },
   "cell_type": "code",
   "source": "topo_x",
   "id": "ff20a2602d1365bd",
   "outputs": [
    {
     "name": "stdout",
     "output_type": "stream",
     "text": [
      "Cannot separate 1 and 2 in a T0 space.\n",
      "Point 1 is not closed, complement {2, 3, 4} is not open.\n",
      "Cannot separate points 1 and 2 with disjoint open sets.\n"
     ]
    },
    {
     "data": {
      "text/plain": [
       "Topology(\n",
       "  Space: [1, 2, 3, 4],\n",
       "  Collection of Subsets:\n",
       "    [1, 2, 3, 4]\n",
       "    []\n",
       "    [1, 2]\n",
       "  Properties: Connected, Compact, Separable\n",
       ")"
      ]
     },
     "execution_count": 3,
     "metadata": {},
     "output_type": "execute_result"
    }
   ],
   "execution_count": 3
  },
  {
   "metadata": {
    "ExecuteTime": {
     "end_time": "2024-10-13T18:27:49.603649Z",
     "start_time": "2024-10-13T18:27:49.600362Z"
    }
   },
   "cell_type": "code",
   "source": [
    "space_y = {3,4}\n",
    "topo_y = Topology(space=space_y, collection_of_subsets= [set(), {3,4}])"
   ],
   "id": "3e93ec09c3a8b8",
   "outputs": [],
   "execution_count": 4
  },
  {
   "metadata": {
    "ExecuteTime": {
     "end_time": "2024-10-13T18:27:49.615350Z",
     "start_time": "2024-10-13T18:27:49.611083Z"
    }
   },
   "cell_type": "code",
   "source": "topo_y.is_indiscrete()",
   "id": "78ac4f363333be42",
   "outputs": [
    {
     "data": {
      "text/plain": [
       "True"
      ]
     },
     "execution_count": 5,
     "metadata": {},
     "output_type": "execute_result"
    }
   ],
   "execution_count": 5
  },
  {
   "metadata": {
    "ExecuteTime": {
     "end_time": "2024-10-13T18:27:49.626708Z",
     "start_time": "2024-10-13T18:27:49.622116Z"
    }
   },
   "cell_type": "code",
   "source": "topo_y",
   "id": "ecce454815324c22",
   "outputs": [
    {
     "name": "stdout",
     "output_type": "stream",
     "text": [
      "Cannot separate 3 and 4 in a T0 space.\n",
      "Point 3 is not closed, complement {4} is not open.\n",
      "Cannot separate points 3 and 4 with disjoint open sets.\n"
     ]
    },
    {
     "data": {
      "text/plain": [
       "Topology(\n",
       "  Space: [3, 4],\n",
       "  Collection of Subsets:\n",
       "    [3, 4]\n",
       "    []\n",
       "  Properties: Indiscrete, Connected, Compact, Separable\n",
       ")"
      ]
     },
     "execution_count": 6,
     "metadata": {},
     "output_type": "execute_result"
    }
   ],
   "execution_count": 6
  },
  {
   "metadata": {
    "ExecuteTime": {
     "end_time": "2024-10-13T18:27:49.645041Z",
     "start_time": "2024-10-13T18:27:49.641215Z"
    }
   },
   "cell_type": "code",
   "source": [
    "m = {1:3, 2:3, 3: 3, 4: 4}\n",
    "m"
   ],
   "id": "921884ff48dc19",
   "outputs": [
    {
     "data": {
      "text/plain": [
       "{1: 3, 2: 3, 3: 3, 4: 4}"
      ]
     },
     "execution_count": 7,
     "metadata": {},
     "output_type": "execute_result"
    }
   ],
   "execution_count": 7
  },
  {
   "metadata": {
    "ExecuteTime": {
     "end_time": "2024-10-13T18:27:49.658721Z",
     "start_time": "2024-10-13T18:27:49.654440Z"
    }
   },
   "cell_type": "code",
   "source": [
    "f = Function(source=topo_x, target=topo_y, mapping=m)\n",
    "f"
   ],
   "id": "fcbf030ddbabf709",
   "outputs": [
    {
     "data": {
      "text/plain": [
       "Function(\n",
       "  Source Topology: [set(), {1, 2, 3, 4}, {1, 2}]\n",
       "  Target Topology: [set(), {3, 4}]\n",
       "  Mapping: { 1 → 3, 2 → 3, 3 → 3, 4 → 4 }\n",
       "  Properties: Continuous, Not an Open Mapping, Not Injective, Surjective, Not a Homeomorphism\n",
       ")"
      ]
     },
     "execution_count": 8,
     "metadata": {},
     "output_type": "execute_result"
    }
   ],
   "execution_count": 8
  },
  {
   "metadata": {
    "ExecuteTime": {
     "end_time": "2024-10-13T18:27:49.746152Z",
     "start_time": "2024-10-13T18:27:49.741412Z"
    }
   },
   "cell_type": "code",
   "source": "",
   "id": "723d26d5dab8504e",
   "outputs": [
    {
     "data": {
      "text/plain": [
       "True"
      ]
     },
     "execution_count": 9,
     "metadata": {},
     "output_type": "execute_result"
    }
   ],
   "execution_count": 9
  },
  {
   "metadata": {
    "ExecuteTime": {
     "end_time": "2024-10-13T18:27:49.838480Z",
     "start_time": "2024-10-13T18:27:49.836001Z"
    }
   },
   "cell_type": "code",
   "source": "",
   "id": "8ae16077aa432b5d",
   "outputs": [],
   "execution_count": null
  }
 ],
 "metadata": {
  "kernelspec": {
   "display_name": "Python 3",
   "language": "python",
   "name": "python3"
  },
  "language_info": {
   "codemirror_mode": {
    "name": "ipython",
    "version": 2
   },
   "file_extension": ".py",
   "mimetype": "text/x-python",
   "name": "python",
   "nbconvert_exporter": "python",
   "pygments_lexer": "ipython2",
   "version": "2.7.6"
  }
 },
 "nbformat": 4,
 "nbformat_minor": 5
}
