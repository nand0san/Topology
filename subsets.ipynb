{
 "cells": [
  {
   "cell_type": "markdown",
   "id": "59ebbd9899feb37",
   "metadata": {},
   "source": [
    "# Exploring Subsets in Topological Spaces\n",
    "\n",
    "In this notebook, we will explore how subsets behave within different topological spaces. We will use our `Topology` class to create spaces, add subsets, and examine properties such as closure, interior, boundary, and more. This serves as a hands-on approach for better understanding key topological concepts.\n",
    "\n",
    "## Goals:\n",
    "- Understand how subsets interact with different topologies.\n",
    "- Learn how operations like finding closure, boundary, and interior apply in practice.\n",
    "- Work through illustrative examples of various types of topologies and their properties.\n"
   ]
  },
  {
   "cell_type": "code",
   "id": "b6859a29e9e5d6f8",
   "metadata": {
    "ExecuteTime": {
     "end_time": "2024-10-12T08:50:05.667002Z",
     "start_time": "2024-10-12T08:50:05.656579Z"
    }
   },
   "source": [
    "from finite_topology.topology import Topology"
   ],
   "outputs": [],
   "execution_count": 1
  },
  {
   "cell_type": "markdown",
   "id": "f1181d6b8d7050fa",
   "metadata": {},
   "source": [
    "## Creating Subsets\n",
    "\n",
    "We'll start by creating some basic subsets within a topological space. Here, we use different types of topologies, such as discrete and particular point topologies, and add various subsets to explore how they behave.\n",
    "\n",
    "Remember, in topology, the concept of \"open sets\" is relative to the topology we're considering. The same subset might be open in one topology and not in another.\n"
   ]
  },
  {
   "cell_type": "code",
   "id": "b05c755701989e85",
   "metadata": {
    "ExecuteTime": {
     "end_time": "2024-10-12T08:50:05.679745Z",
     "start_time": "2024-10-12T08:50:05.673012Z"
    }
   },
   "source": [
    "space = {1, 2, 3, 4}\n",
    "collection_of_subsets = [\n",
    "    set(),\n",
    "    {1, 2, 3, 4},\n",
    "    {1, 2, 4},\n",
    "    {1, 2}, {1, 4},\n",
    "    {1},\n",
    "    {4}\n",
    "]\n",
    "topo = Topology(space, collection_of_subsets)\n",
    "topo"
   ],
   "outputs": [
    {
     "data": {
      "text/plain": [
       "Topology(\n",
       "  Space: [1, 2, 3, 4],\n",
       "  Collection of Subsets:\n",
       "    [1, 2, 3, 4]\n",
       "    []\n",
       "    [1]\n",
       "    [4]\n",
       "    [1, 4]\n",
       "    [1, 2]\n",
       "    [1, 2, 4]\n",
       ")"
      ]
     },
     "execution_count": 2,
     "metadata": {},
     "output_type": "execute_result"
    }
   ],
   "execution_count": 2
  },
  {
   "metadata": {
    "ExecuteTime": {
     "end_time": "2024-10-12T08:50:05.812055Z",
     "start_time": "2024-10-12T08:50:05.807172Z"
    }
   },
   "cell_type": "code",
   "source": "topo.is_open({1, 2, 3})",
   "id": "5d8daff8d2f9bded",
   "outputs": [
    {
     "name": "stdout",
     "output_type": "stream",
     "text": [
      "The set [1, 2, 3] is not open.\n"
     ]
    },
    {
     "data": {
      "text/plain": [
       "False"
      ]
     },
     "execution_count": 3,
     "metadata": {},
     "output_type": "execute_result"
    }
   ],
   "execution_count": 3
  },
  {
   "metadata": {
    "ExecuteTime": {
     "end_time": "2024-10-12T08:50:05.823332Z",
     "start_time": "2024-10-12T08:50:05.819222Z"
    }
   },
   "cell_type": "code",
   "source": "topo.is_closed({1, 2, 3})",
   "id": "313c9fd9dccbb675",
   "outputs": [
    {
     "data": {
      "text/plain": [
       "True"
      ]
     },
     "execution_count": 4,
     "metadata": {},
     "output_type": "execute_result"
    }
   ],
   "execution_count": 4
  },
  {
   "metadata": {
    "ExecuteTime": {
     "end_time": "2024-10-12T08:50:05.842209Z",
     "start_time": "2024-10-12T08:50:05.838394Z"
    }
   },
   "cell_type": "code",
   "source": "topo.get_complement({1, 2, 3})",
   "id": "2b2dd530bd7d33d9",
   "outputs": [
    {
     "data": {
      "text/plain": [
       "{4}"
      ]
     },
     "execution_count": 5,
     "metadata": {},
     "output_type": "execute_result"
    }
   ],
   "execution_count": 5
  },
  {
   "cell_type": "markdown",
   "id": "c4597c1468aa81a2",
   "metadata": {},
   "source": [
    "## Finding the Interior of a Subset\n",
    "\n",
    "The **interior** of a subset $A$ in a topological space is the largest open set contained within $A$. In other words, it's the collection of points that definitely belong to $A$, without touching the boundary.\n",
    "\n",
    "$$\n",
    "\\text{Interior}(A) = \\bigcup \\{ U \\in \\tau : U \\subseteq A \\}\n",
    "$$\n",
    "\n",
    "Let's explore how different subsets have different interiors in various topologies.\n"
   ]
  },
  {
   "cell_type": "code",
   "id": "f05542b744f3fe55",
   "metadata": {
    "ExecuteTime": {
     "end_time": "2024-10-12T08:50:05.871935Z",
     "start_time": "2024-10-12T08:50:05.867946Z"
    }
   },
   "source": [
    "A = {1, 2, 3}\n",
    "\n",
    "# interior of A\n",
    "interior_A = topo.get_interior(A)\n",
    "print(f\"Interior of {sorted(A)} is {sorted(interior_A)}.\")"
   ],
   "outputs": [
    {
     "name": "stdout",
     "output_type": "stream",
     "text": [
      "Interior of [1, 2, 3] is [1, 2].\n"
     ]
    }
   ],
   "execution_count": 6
  },
  {
   "cell_type": "markdown",
   "id": "144180eb81799ca7",
   "metadata": {},
   "source": [
    "## Finding the Closure of a Subset\n",
    "\n",
    "The **closure** of a subset $A$ in a topological space $(X, \\tau)$ is the smallest closed set that contains $A$. Intuitively, it consists of all points in $A$, along with all of its \"limit points.\" In formal terms:\n",
    "\n",
    "$$\n",
    "\\text{closure}(A) = \\bigcap \\{ F \\in \\text{Closed sets of } X : A \\subseteq F \\}\n",
    "$$\n",
    "\n",
    "Let's calculate the closure of different subsets in our topological spaces.\n"
   ]
  },
  {
   "cell_type": "code",
   "id": "ead9655c15149a2c",
   "metadata": {
    "ExecuteTime": {
     "end_time": "2024-10-12T08:50:05.897626Z",
     "start_time": "2024-10-12T08:50:05.893946Z"
    }
   },
   "source": [
    "B = {2, 3}\n",
    "print(f\"is open?: {topo.is_open(B)}\")\n",
    "print(f\"is closed?: {topo.is_closed(B)}\")\n",
    "# enclosure of B\n",
    "closure_B = topo.get_closure(B)\n",
    "print(f\"Closure of {sorted(B)} is {sorted(closure_B)}.\")"
   ],
   "outputs": [
    {
     "name": "stdout",
     "output_type": "stream",
     "text": [
      "The set [2, 3] is not open.\n",
      "is open?: False\n",
      "is closed?: True\n",
      "Closure of [2, 3] is [2, 3].\n"
     ]
    }
   ],
   "execution_count": 7
  },
  {
   "metadata": {
    "ExecuteTime": {
     "end_time": "2024-10-12T08:50:05.910738Z",
     "start_time": "2024-10-12T08:50:05.906698Z"
    }
   },
   "cell_type": "code",
   "source": "topo.get_interior(B)",
   "id": "fbc5938609aed2c6",
   "outputs": [
    {
     "data": {
      "text/plain": [
       "set()"
      ]
     },
     "execution_count": 8,
     "metadata": {},
     "output_type": "execute_result"
    }
   ],
   "execution_count": 8
  },
  {
   "cell_type": "markdown",
   "id": "4b733668c303f1aa",
   "metadata": {},
   "source": [
    "## Finding the Boundary of a Subset\n",
    "\n",
    "The **boundary** of a subset $A$ is defined as:\n",
    "\n",
    "$$\n",
    "\\partial A = \\overline{A} \\setminus \\text{Interior}(A)\n",
    "$$\n",
    "\n",
    "It represents the \"edge\" of $A$, consisting of points that are neither entirely inside nor entirely outside $A$. The boundary helps us understand the transition zone between a set and its complement.\n"
   ]
  },
  {
   "cell_type": "code",
   "id": "97bc8d34ec4c96a9",
   "metadata": {
    "ExecuteTime": {
     "end_time": "2024-10-12T08:50:05.930023Z",
     "start_time": "2024-10-12T08:50:05.926301Z"
    }
   },
   "source": [
    "C = {2}\n",
    "print(f\"is open?: {topo.is_open(C)}\")\n",
    "print(f\"is closed?: {topo.is_closed(C)}\")"
   ],
   "outputs": [
    {
     "name": "stdout",
     "output_type": "stream",
     "text": [
      "The set [2] is not open.\n",
      "is open?: False\n",
      "The set [2] is not closed.\n",
      "is closed?: False\n"
     ]
    }
   ],
   "execution_count": 9
  },
  {
   "cell_type": "code",
   "id": "e6b823b7ab279fcf",
   "metadata": {
    "ExecuteTime": {
     "end_time": "2024-10-12T08:50:05.962780Z",
     "start_time": "2024-10-12T08:50:05.958438Z"
    }
   },
   "source": [
    "clo = topo.get_closure(C)\n",
    "print(f\" Is {clo} closed? {topo.is_closed(clo)}\")\n",
    "clo"
   ],
   "outputs": [
    {
     "name": "stdout",
     "output_type": "stream",
     "text": [
      " Is {2, 3} closed? True\n"
     ]
    },
    {
     "data": {
      "text/plain": [
       "{2, 3}"
      ]
     },
     "execution_count": 10,
     "metadata": {},
     "output_type": "execute_result"
    }
   ],
   "execution_count": 10
  },
  {
   "cell_type": "code",
   "id": "6a0797919891aaeb",
   "metadata": {
    "ExecuteTime": {
     "end_time": "2024-10-12T08:50:05.980851Z",
     "start_time": "2024-10-12T08:50:05.976907Z"
    }
   },
   "source": [
    "topo.get_interior(C)"
   ],
   "outputs": [
    {
     "data": {
      "text/plain": [
       "set()"
      ]
     },
     "execution_count": 11,
     "metadata": {},
     "output_type": "execute_result"
    }
   ],
   "execution_count": 11
  },
  {
   "cell_type": "code",
   "id": "ee9cce981eb1cdb0",
   "metadata": {
    "ExecuteTime": {
     "end_time": "2024-10-12T08:50:06.024312Z",
     "start_time": "2024-10-12T08:50:06.020884Z"
    }
   },
   "source": [
    "# boundary of C\n",
    "boundary_C = topo.get_boundary(C)\n",
    "print(f\"Boundary of {sorted(C)} is {sorted(boundary_C)}.\")"
   ],
   "outputs": [
    {
     "name": "stdout",
     "output_type": "stream",
     "text": [
      "Boundary of [2] is [2, 3].\n"
     ]
    }
   ],
   "execution_count": 12
  },
  {
   "cell_type": "code",
   "id": "4bb4ef73394bbbd8",
   "metadata": {
    "ExecuteTime": {
     "end_time": "2024-10-12T08:50:06.048201Z",
     "start_time": "2024-10-12T08:50:06.043382Z"
    }
   },
   "source": [
    "topo"
   ],
   "outputs": [
    {
     "data": {
      "text/plain": [
       "Topology(\n",
       "  Space: [1, 2, 3, 4],\n",
       "  Collection of Subsets:\n",
       "    [1, 2, 3, 4]\n",
       "    []\n",
       "    [1]\n",
       "    [4]\n",
       "    [1, 4]\n",
       "    [1, 2]\n",
       "    [1, 2, 4]\n",
       ")"
      ]
     },
     "execution_count": 13,
     "metadata": {},
     "output_type": "execute_result"
    }
   ],
   "execution_count": 13
  },
  {
   "cell_type": "markdown",
   "id": "f6ae5d5111d44e60",
   "metadata": {},
   "source": [
    "# Exterior\n",
    "\n",
    "## Definition of Exterior\n",
    "\n",
    "The **exterior** of a set $A$ in a topological space $X$ is defined as the **interior** of the **complement** of $A$. In other words, it consists of all points that are definitely outside of $A$ and not part of its boundary.\n",
    "\n",
    "Mathematically, we define the exterior as:\n",
    "\n",
    "$$\n",
    "\\text{Exterior}(A) = \\text{Interior}(X \\setminus A)\n",
    "$$\n",
    "\n",
    "The concept of the exterior helps us understand the regions of a space that are completely disjoint from the given subset $A$. It provides insights into how $A$ fits within the broader topological structure of $X$.\n",
    "\n",
    "Let's calculate the exterior of some subsets and see how this concept helps in differentiating various parts of a topological space.\n",
    "\n"
   ]
  },
  {
   "cell_type": "code",
   "id": "33e2f4611883cf58",
   "metadata": {
    "ExecuteTime": {
     "end_time": "2024-10-12T08:50:06.080439Z",
     "start_time": "2024-10-12T08:50:06.077079Z"
    }
   },
   "source": [
    "D = {1, 4}"
   ],
   "outputs": [],
   "execution_count": 14
  },
  {
   "cell_type": "code",
   "id": "6fdbb9f880615778",
   "metadata": {
    "ExecuteTime": {
     "end_time": "2024-10-12T08:50:06.099774Z",
     "start_time": "2024-10-12T08:50:06.094761Z"
    }
   },
   "source": "topo.get_interior(D), topo.get_boundary(D)",
   "outputs": [
    {
     "data": {
      "text/plain": [
       "({1, 4}, {2, 3})"
      ]
     },
     "execution_count": 15,
     "metadata": {},
     "output_type": "execute_result"
    }
   ],
   "execution_count": 15
  },
  {
   "metadata": {
    "ExecuteTime": {
     "end_time": "2024-10-12T08:50:06.192144Z",
     "start_time": "2024-10-12T08:50:06.188007Z"
    }
   },
   "cell_type": "code",
   "source": [
    "comp = topo.get_complement(D)\n",
    "comp"
   ],
   "id": "ef5cc9d704340909",
   "outputs": [
    {
     "data": {
      "text/plain": [
       "{2, 3}"
      ]
     },
     "execution_count": 16,
     "metadata": {},
     "output_type": "execute_result"
    }
   ],
   "execution_count": 16
  },
  {
   "metadata": {
    "ExecuteTime": {
     "end_time": "2024-10-12T08:50:06.287398Z",
     "start_time": "2024-10-12T08:50:06.283168Z"
    }
   },
   "cell_type": "code",
   "source": "topo.get_interior(space - D)",
   "id": "96cd48d34d251a29",
   "outputs": [
    {
     "data": {
      "text/plain": [
       "set()"
      ]
     },
     "execution_count": 17,
     "metadata": {},
     "output_type": "execute_result"
    }
   ],
   "execution_count": 17
  },
  {
   "cell_type": "code",
   "id": "df4242548194ebfa",
   "metadata": {
    "ExecuteTime": {
     "end_time": "2024-10-12T08:50:06.345388Z",
     "start_time": "2024-10-12T08:50:06.341272Z"
    }
   },
   "source": [
    "exterior_D = topo.get_exterior(D)\n",
    "print(f\"Exterior of {sorted(D)} is {sorted(exterior_D)}.\")"
   ],
   "outputs": [
    {
     "name": "stdout",
     "output_type": "stream",
     "text": [
      "Exterior of [1, 4] is [].\n"
     ]
    }
   ],
   "execution_count": 18
  },
  {
   "metadata": {
    "ExecuteTime": {
     "end_time": "2024-10-12T08:50:06.410463Z",
     "start_time": "2024-10-12T08:50:06.405689Z"
    }
   },
   "cell_type": "code",
   "source": "topo",
   "id": "73a1e9f702a286e",
   "outputs": [
    {
     "data": {
      "text/plain": [
       "Topology(\n",
       "  Space: [1, 2, 3, 4],\n",
       "  Collection of Subsets:\n",
       "    [1, 2, 3, 4]\n",
       "    []\n",
       "    [1]\n",
       "    [4]\n",
       "    [1, 4]\n",
       "    [1, 2]\n",
       "    [1, 2, 4]\n",
       ")"
      ]
     },
     "execution_count": 19,
     "metadata": {},
     "output_type": "execute_result"
    }
   ],
   "execution_count": 19
  },
  {
   "metadata": {
    "ExecuteTime": {
     "end_time": "2024-10-12T08:50:06.445899Z",
     "start_time": "2024-10-12T08:50:06.443504Z"
    }
   },
   "cell_type": "code",
   "source": "",
   "id": "e63723b49c9a73d3",
   "outputs": [],
   "execution_count": null
  }
 ],
 "metadata": {
  "kernelspec": {
   "display_name": "Python 3 (ipykernel)",
   "language": "python",
   "name": "python3"
  },
  "language_info": {
   "codemirror_mode": {
    "name": "ipython",
    "version": 3
   },
   "file_extension": ".py",
   "mimetype": "text/x-python",
   "name": "python",
   "nbconvert_exporter": "python",
   "pygments_lexer": "ipython3",
   "version": "3.11.2"
  }
 },
 "nbformat": 4,
 "nbformat_minor": 5
}
