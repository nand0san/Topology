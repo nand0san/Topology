{
 "cells": [
  {
   "cell_type": "markdown",
   "id": "59ebbd9899feb37",
   "metadata": {},
   "source": [
    "# Exploring Subsets in Topological Spaces\n",
    "\n",
    "In this notebook, we will explore how subsets behave within different topological spaces. We will use our `Topology` class to create spaces, add subsets, and examine properties such as closure, interior, boundary, and more. This serves as a hands-on approach for better understanding key topological concepts.\n",
    "\n",
    "## Goals:\n",
    "- Understand how subsets interact with different topologies.\n",
    "- Learn how operations like finding closure, boundary, and interior apply in practice.\n",
    "- Work through illustrative examples of various types of topologies and their properties.\n"
   ]
  },
  {
   "cell_type": "code",
   "execution_count": 1,
   "id": "b6859a29e9e5d6f8",
   "metadata": {
    "ExecuteTime": {
     "end_time": "2024-10-07T11:18:04.156032Z",
     "start_time": "2024-10-07T11:18:04.150216Z"
    }
   },
   "outputs": [],
   "source": [
    "from finite_topology.topology import Topology"
   ]
  },
  {
   "cell_type": "markdown",
   "id": "f1181d6b8d7050fa",
   "metadata": {},
   "source": [
    "## Creating Subsets\n",
    "\n",
    "We'll start by creating some basic subsets within a topological space. Here, we use different types of topologies, such as discrete and particular point topologies, and add various subsets to explore how they behave.\n",
    "\n",
    "Remember, in topology, the concept of \"open sets\" is relative to the topology we're considering. The same subset might be open in one topology and not in another.\n"
   ]
  },
  {
   "cell_type": "code",
   "execution_count": 2,
   "id": "b05c755701989e85",
   "metadata": {
    "ExecuteTime": {
     "end_time": "2024-10-07T11:18:04.335145Z",
     "start_time": "2024-10-07T11:18:04.326486Z"
    }
   },
   "outputs": [
    {
     "data": {
      "text/plain": [
       "Topology(\n",
       "  Space: [1, 2, 3, 4],\n",
       "  Collection of Subsets:\n",
       "    [1, 2, 3, 4]\n",
       "    []\n",
       "    [1]\n",
       "    [4]\n",
       "    [1, 4]\n",
       "    [1, 2]\n",
       "    [1, 2, 4]\n",
       ")"
      ]
     },
     "execution_count": 2,
     "metadata": {},
     "output_type": "execute_result"
    }
   ],
   "source": [
    "space = {1, 2, 3, 4}\n",
    "collection_of_subsets = [\n",
    "    set(),\n",
    "    {1, 2, 3, 4},\n",
    "    {1, 2, 4},\n",
    "    {1, 2}, {1, 4},\n",
    "    {1},\n",
    "    {4}\n",
    "]\n",
    "topo = Topology(space, collection_of_subsets)\n",
    "topo"
   ]
  },
  {
   "cell_type": "markdown",
   "id": "c4597c1468aa81a2",
   "metadata": {},
   "source": [
    "## Finding the Interior of a Subset\n",
    "\n",
    "The **interior** of a subset $A$ in a topological space is the largest open set contained within $A$. In other words, it's the collection of points that definitely belong to $A$, without touching the boundary.\n",
    "\n",
    "$$\n",
    "\\text{Interior}(A) = \\bigcup \\{ U \\in \\tau : U \\subseteq A \\}\n",
    "$$\n",
    "\n",
    "Let's explore how different subsets have different interiors in various topologies.\n"
   ]
  },
  {
   "cell_type": "code",
   "execution_count": 3,
   "id": "f05542b744f3fe55",
   "metadata": {
    "ExecuteTime": {
     "end_time": "2024-10-07T11:18:04.407042Z",
     "start_time": "2024-10-07T11:18:04.401135Z"
    }
   },
   "outputs": [
    {
     "name": "stdout",
     "output_type": "stream",
     "text": [
      "El interior de [1, 2, 3] es [1, 2].\n"
     ]
    }
   ],
   "source": [
    "A = {1, 2, 3}\n",
    "\n",
    "# interior of A\n",
    "interior_A = topo.get_interior(A)\n",
    "print(f\"El interior de {sorted(A)} es {sorted(interior_A)}.\")"
   ]
  },
  {
   "cell_type": "markdown",
   "id": "144180eb81799ca7",
   "metadata": {},
   "source": [
    "## Finding the Closure of a Subset\n",
    "\n",
    "The **closure** of a subset $A$ in a topological space $(X, \\tau)$ is the smallest closed set that contains $A$. Intuitively, it consists of all points in $A$, along with all of its \"limit points.\" In formal terms:\n",
    "\n",
    "$$\n",
    "\\text{closure}(A) = \\bigcap \\{ F \\in \\text{Closed sets of } X : A \\subseteq F \\}\n",
    "$$\n",
    "\n",
    "Let's calculate the closure of different subsets in our topological spaces.\n"
   ]
  },
  {
   "cell_type": "code",
   "execution_count": 4,
   "id": "ead9655c15149a2c",
   "metadata": {
    "ExecuteTime": {
     "end_time": "2024-10-07T11:18:20.768882Z",
     "start_time": "2024-10-07T11:18:20.762651Z"
    }
   },
   "outputs": [
    {
     "name": "stdout",
     "output_type": "stream",
     "text": [
      "Closure of [2, 3] is [2, 3].\n"
     ]
    }
   ],
   "source": [
    "B = {2, 3}\n",
    "\n",
    "# enclosure of B\n",
    "closure_B = topo.get_closure(B)\n",
    "print(f\"Closure of {sorted(B)} is {sorted(closure_B)}.\")"
   ]
  },
  {
   "cell_type": "markdown",
   "id": "4b733668c303f1aa",
   "metadata": {},
   "source": [
    "## Finding the Boundary of a Subset\n",
    "\n",
    "The **boundary** of a subset $A$ is defined as:\n",
    "\n",
    "$$\n",
    "\\partial A = \\overline{A} \\setminus \\text{Interior}(A)\n",
    "$$\n",
    "\n",
    "It represents the \"edge\" of $A$, consisting of points that are neither entirely inside nor entirely outside $A$. The boundary helps us understand the transition zone between a set and its complement.\n"
   ]
  },
  {
   "cell_type": "code",
   "execution_count": 5,
   "id": "97bc8d34ec4c96a9",
   "metadata": {
    "ExecuteTime": {
     "end_time": "2024-10-07T11:18:04.551039Z",
     "start_time": "2024-10-07T11:18:04.546625Z"
    }
   },
   "outputs": [],
   "source": [
    "C = {2}"
   ]
  },
  {
   "cell_type": "code",
   "execution_count": 6,
   "id": "e6b823b7ab279fcf",
   "metadata": {
    "ExecuteTime": {
     "end_time": "2024-10-07T11:18:04.614717Z",
     "start_time": "2024-10-07T11:18:04.606600Z"
    }
   },
   "outputs": [
    {
     "data": {
      "text/plain": [
       "{2, 3}"
      ]
     },
     "execution_count": 6,
     "metadata": {},
     "output_type": "execute_result"
    }
   ],
   "source": [
    "topo.get_closure(C)"
   ]
  },
  {
   "cell_type": "code",
   "execution_count": 7,
   "id": "6a0797919891aaeb",
   "metadata": {
    "ExecuteTime": {
     "end_time": "2024-10-07T11:18:04.681623Z",
     "start_time": "2024-10-07T11:18:04.675052Z"
    }
   },
   "outputs": [
    {
     "data": {
      "text/plain": [
       "set()"
      ]
     },
     "execution_count": 7,
     "metadata": {},
     "output_type": "execute_result"
    }
   ],
   "source": [
    "topo.get_interior(C)"
   ]
  },
  {
   "cell_type": "code",
   "execution_count": 8,
   "id": "ee9cce981eb1cdb0",
   "metadata": {
    "ExecuteTime": {
     "end_time": "2024-10-07T11:18:04.791250Z",
     "start_time": "2024-10-07T11:18:04.783876Z"
    }
   },
   "outputs": [
    {
     "name": "stdout",
     "output_type": "stream",
     "text": [
      "Boundary of [2] is [2, 3].\n"
     ]
    }
   ],
   "source": [
    "# boundary of C\n",
    "boundary_C = topo.get_boundary(C)\n",
    "print(f\"Boundary of {sorted(C)} is {sorted(boundary_C)}.\")"
   ]
  },
  {
   "cell_type": "code",
   "execution_count": 9,
   "id": "4bb4ef73394bbbd8",
   "metadata": {
    "ExecuteTime": {
     "end_time": "2024-10-07T11:18:04.930548Z",
     "start_time": "2024-10-07T11:18:04.922517Z"
    }
   },
   "outputs": [
    {
     "data": {
      "text/plain": [
       "Topology(\n",
       "  Space: [1, 2, 3, 4],\n",
       "  Collection of Subsets:\n",
       "    [1, 2, 3, 4]\n",
       "    []\n",
       "    [1]\n",
       "    [4]\n",
       "    [1, 4]\n",
       "    [1, 2]\n",
       "    [1, 2, 4]\n",
       ")"
      ]
     },
     "execution_count": 9,
     "metadata": {},
     "output_type": "execute_result"
    }
   ],
   "source": [
    "topo"
   ]
  },
  {
   "cell_type": "markdown",
   "id": "f6ae5d5111d44e60",
   "metadata": {},
   "source": [
    "# Exterior\n",
    "\n",
    "## Definition of Exterior\n",
    "\n",
    "The **exterior** of a set $A$ in a topological space $X$ is defined as the **interior** of the **complement** of $A$. In other words, it consists of all points that are definitely outside of $A$ and not part of its boundary.\n",
    "\n",
    "Mathematically, we define the exterior as:\n",
    "\n",
    "$$\n",
    "\\text{Exterior}(A) = \\text{Interior}(X \\setminus A)\n",
    "$$\n",
    "\n",
    "The concept of the exterior helps us understand the regions of a space that are completely disjoint from the given subset $A$. It provides insights into how $A$ fits within the broader topological structure of $X$.\n",
    "\n",
    "Let's calculate the exterior of some subsets and see how this concept helps in differentiating various parts of a topological space.\n"
   ]
  },
  {
   "cell_type": "code",
   "execution_count": 10,
   "id": "33e2f4611883cf58",
   "metadata": {
    "ExecuteTime": {
     "end_time": "2024-10-07T11:18:05.109192Z",
     "start_time": "2024-10-07T11:18:05.103237Z"
    }
   },
   "outputs": [],
   "source": [
    "D = {1, 4}"
   ]
  },
  {
   "cell_type": "code",
   "execution_count": 11,
   "id": "6fdbb9f880615778",
   "metadata": {
    "ExecuteTime": {
     "end_time": "2024-10-07T11:18:05.244909Z",
     "start_time": "2024-10-07T11:18:05.236591Z"
    }
   },
   "outputs": [
    {
     "data": {
      "text/plain": [
       "{1, 4}"
      ]
     },
     "execution_count": 11,
     "metadata": {},
     "output_type": "execute_result"
    }
   ],
   "source": [
    "topo.get_interior(D)"
   ]
  },
  {
   "cell_type": "code",
   "execution_count": 12,
   "id": "df4242548194ebfa",
   "metadata": {
    "ExecuteTime": {
     "end_time": "2024-10-07T11:18:05.341624Z",
     "start_time": "2024-10-07T11:18:05.334534Z"
    }
   },
   "outputs": [
    {
     "name": "stdout",
     "output_type": "stream",
     "text": [
      "Exterior of [1, 4] is [].\n"
     ]
    }
   ],
   "source": [
    "exterior_D = topo.get_exterior(D)\n",
    "print(f\"Exterior of {sorted(D)} is {sorted(exterior_D)}.\")"
   ]
  },
  {
   "cell_type": "code",
   "execution_count": null,
   "id": "54f07b5572b85022",
   "metadata": {
    "ExecuteTime": {
     "end_time": "2024-10-07T11:18:05.425630Z",
     "start_time": "2024-10-07T11:18:05.421344Z"
    }
   },
   "outputs": [],
   "source": []
  },
  {
   "cell_type": "code",
   "execution_count": null,
   "id": "2bd7461a-2b92-4bd9-9c10-705a36aef230",
   "metadata": {},
   "outputs": [],
   "source": []
  },
  {
   "cell_type": "code",
   "execution_count": null,
   "id": "5a6b4c96-3a04-46f0-a716-e471b49c293d",
   "metadata": {},
   "outputs": [],
   "source": []
  },
  {
   "cell_type": "code",
   "execution_count": null,
   "id": "63f355d6-5924-4361-8062-3523350b0f0d",
   "metadata": {},
   "outputs": [],
   "source": []
  },
  {
   "cell_type": "code",
   "execution_count": null,
   "id": "0182a90f-71ea-46b4-b073-14ef462b89cf",
   "metadata": {},
   "outputs": [],
   "source": []
  }
 ],
 "metadata": {
  "kernelspec": {
   "display_name": "Python 3 (ipykernel)",
   "language": "python",
   "name": "python3"
  },
  "language_info": {
   "codemirror_mode": {
    "name": "ipython",
    "version": 3
   },
   "file_extension": ".py",
   "mimetype": "text/x-python",
   "name": "python",
   "nbconvert_exporter": "python",
   "pygments_lexer": "ipython3",
   "version": "3.11.2"
  }
 },
 "nbformat": 4,
 "nbformat_minor": 5
}
