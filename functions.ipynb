{
 "cells": [
  {
   "cell_type": "code",
   "id": "initial_id",
   "metadata": {
    "ExecuteTime": {
     "end_time": "2024-10-12T08:50:22.512839Z",
     "start_time": "2024-10-12T08:50:22.503934Z"
    }
   },
   "source": [
    "from finite_topology.functions import Function\n",
    "from finite_topology.topology import Topology"
   ],
   "outputs": [],
   "execution_count": 1
  },
  {
   "cell_type": "markdown",
   "id": "5ba72ce1113a89fc",
   "metadata": {},
   "source": [
    "# Continuous Functions in Topology\n",
    "\n",
    "In this notebook, we explore the concept of **continuous functions** between topological spaces, specifically focusing on the properties that make a function continuous, bijective, or even a homeomorphism. We will also demonstrate how to use these concepts with the `ContinuousFunction` class, which is part of our topology library.\n",
    "\n",
    "### Key Concepts Covered:\n",
    "- Definition and properties of **continuous functions** between topological spaces.\n",
    "- Understanding **bijectivity** and its role in topological equivalence.\n",
    "- The concept of **homeomorphism**: how two topological spaces can be considered equivalent.\n"
   ]
  },
  {
   "cell_type": "markdown",
   "id": "a779cfd5e3a17a6e",
   "metadata": {},
   "source": [
    "## Creating a Continuous Function\n",
    "\n",
    "In this example, we create a continuous function between two finite topological spaces using the `ContinuousFunction` class. We need to define a source topology, a target topology, and a mapping between the elements of these spaces. This mapping must meet specific conditions to be valid:\n",
    "\n",
    "- **Source Topology**: The space from which the function originates.\n",
    "- **Target Topology**: The space to which the function maps.\n",
    "- **Mapping**: A dictionary that defines the relation between elements of the source space and the target space.\n",
    "\n",
    "We will initialize a `ContinuousFunction` and later verify whether it is continuous.\n"
   ]
  },
  {
   "metadata": {
    "ExecuteTime": {
     "end_time": "2024-10-12T08:50:22.524039Z",
     "start_time": "2024-10-12T08:50:22.516845Z"
    }
   },
   "cell_type": "code",
   "source": [
    "space_X = {1, 2, 3}\n",
    "collection_X = [\n",
    "    set(),\n",
    "    {1, 2, 3},\n",
    "    {1},\n",
    "    # {2},\n",
    "    {3},\n",
    "    {1, 2},\n",
    "    {1, 3},\n",
    "    # {2, 3}\n",
    "]\n",
    "topo_X = Topology(space_X, collection_X)\n",
    "topo_X"
   ],
   "id": "9c48d0984f24e309",
   "outputs": [
    {
     "data": {
      "text/plain": [
       "Topology(\n",
       "  Space: [1, 2, 3],\n",
       "  Collection of Subsets:\n",
       "    [1, 2, 3]\n",
       "    []\n",
       "    [3]\n",
       "    [1]\n",
       "    [1, 2]\n",
       "    [1, 3]\n",
       ")"
      ]
     },
     "execution_count": 2,
     "metadata": {},
     "output_type": "execute_result"
    }
   ],
   "execution_count": 2
  },
  {
   "metadata": {
    "ExecuteTime": {
     "end_time": "2024-10-12T08:50:22.661163Z",
     "start_time": "2024-10-12T08:50:22.657370Z"
    }
   },
   "cell_type": "code",
   "source": "topo_X.is_discrete()",
   "id": "972df3a353be0c28",
   "outputs": [
    {
     "data": {
      "text/plain": [
       "False"
      ]
     },
     "execution_count": 3,
     "metadata": {},
     "output_type": "execute_result"
    }
   ],
   "execution_count": 3
  },
  {
   "metadata": {
    "ExecuteTime": {
     "end_time": "2024-10-12T08:50:22.672867Z",
     "start_time": "2024-10-12T08:50:22.667973Z"
    }
   },
   "cell_type": "code",
   "source": [
    "space_Y = {'a', 'b', 'c'}\n",
    "collection_Y = [\n",
    "    set(),\n",
    "    space_Y,\n",
    "    {'a', 'b'},\n",
    "    {'a'},\n",
    "    {'b'}\n",
    "]\n",
    "topo_Y = Topology(space_Y, collection_Y)\n",
    "topo_Y"
   ],
   "id": "d4213be4860a5450",
   "outputs": [
    {
     "data": {
      "text/plain": [
       "Topology(\n",
       "  Space: ['a', 'b', 'c'],\n",
       "  Collection of Subsets:\n",
       "    ['a', 'b', 'c']\n",
       "    []\n",
       "    ['b']\n",
       "    ['a']\n",
       "    ['a', 'b']\n",
       ")"
      ]
     },
     "execution_count": 4,
     "metadata": {},
     "output_type": "execute_result"
    }
   ],
   "execution_count": 4
  },
  {
   "metadata": {
    "ExecuteTime": {
     "end_time": "2024-10-12T08:50:22.689520Z",
     "start_time": "2024-10-12T08:50:22.684804Z"
    }
   },
   "cell_type": "code",
   "source": "topo_Y.is_discrete()",
   "id": "42d9a800e57b63e",
   "outputs": [
    {
     "data": {
      "text/plain": [
       "False"
      ]
     },
     "execution_count": 5,
     "metadata": {},
     "output_type": "execute_result"
    }
   ],
   "execution_count": 5
  },
  {
   "metadata": {},
   "cell_type": "markdown",
   "source": [
    "### Verifying Continuity\n",
    "\n",
    "The next step is to verify whether the function is **continuous**. In topology, a function is continuous if the preimage of every open set in the target space is also open in the source space.\n",
    "\n",
    "This means that for every open set in the target topology, we need to check if the corresponding preimage under the function is open in the source topology. If this condition is satisfied for all open sets, the function is considered continuous.\n"
   ],
   "id": "14b8caaac1641823"
  },
  {
   "metadata": {
    "ExecuteTime": {
     "end_time": "2024-10-12T08:50:22.712383Z",
     "start_time": "2024-10-12T08:50:22.709138Z"
    }
   },
   "cell_type": "code",
   "source": [
    "# define a function f: X -> Y\n",
    "mapping_f = {\n",
    "    1: 'a',\n",
    "    2: 'a',\n",
    "    3: 'b',\n",
    "}\n",
    "\n",
    "f = Function(topo_X, topo_Y, mapping_f)"
   ],
   "id": "17fc540fc5449923",
   "outputs": [],
   "execution_count": 6
  },
  {
   "metadata": {
    "ExecuteTime": {
     "end_time": "2024-10-12T08:50:22.726272Z",
     "start_time": "2024-10-12T08:50:22.722913Z"
    }
   },
   "cell_type": "code",
   "source": [
    "# is continous function?    \n",
    "print(f\"Is continuous function? {f.is_continuous()}\")"
   ],
   "id": "23a079dd7280e9c5",
   "outputs": [
    {
     "name": "stdout",
     "output_type": "stream",
     "text": [
      "Is continuous function? True\n"
     ]
    }
   ],
   "execution_count": 7
  },
  {
   "metadata": {
    "ExecuteTime": {
     "end_time": "2024-10-12T08:50:22.738085Z",
     "start_time": "2024-10-12T08:50:22.733417Z"
    }
   },
   "cell_type": "code",
   "source": [
    "# look preimages\n",
    "f.get_preimage('a'), f.get_preimage('b'), f.get_preimage('c'), f.get_preimage({'a','b'})"
   ],
   "id": "342f67e1dc49d468",
   "outputs": [
    {
     "data": {
      "text/plain": [
       "({1, 2}, {3}, set(), {1, 2, 3})"
      ]
     },
     "execution_count": 8,
     "metadata": {},
     "output_type": "execute_result"
    }
   ],
   "execution_count": 8
  },
  {
   "metadata": {
    "ExecuteTime": {
     "end_time": "2024-10-12T08:50:22.752547Z",
     "start_time": "2024-10-12T08:50:22.748943Z"
    }
   },
   "cell_type": "code",
   "source": [
    "# X topology open sets for visual check\n",
    "topo_X"
   ],
   "id": "2cae67e9e6eba782",
   "outputs": [
    {
     "data": {
      "text/plain": [
       "Topology(\n",
       "  Space: [1, 2, 3],\n",
       "  Collection of Subsets:\n",
       "    [1, 2, 3]\n",
       "    []\n",
       "    [3]\n",
       "    [1]\n",
       "    [1, 2]\n",
       "    [1, 3]\n",
       ")"
      ]
     },
     "execution_count": 9,
     "metadata": {},
     "output_type": "execute_result"
    }
   ],
   "execution_count": 9
  },
  {
   "cell_type": "markdown",
   "id": "e42feac61a0359b0",
   "metadata": {},
   "source": [
    "## Bijectivity Check\n",
    "\n",
    "A function is **bijective** if it is both:\n",
    "- **Injective**: Every element of the target set is mapped by at most one element of the source set.\n",
    "- **Surjective**: Every element of the target set is mapped by at least one element of the source set.\n",
    "\n",
    "If a function is bijective, it means we can establish a one-to-one correspondence between elements of the source and target sets. This property is essential for establishing **topological equivalence**.\n"
   ]
  },
  {
   "cell_type": "code",
   "id": "6c2aa264f3786cea",
   "metadata": {
    "ExecuteTime": {
     "end_time": "2024-10-12T08:50:22.776708Z",
     "start_time": "2024-10-12T08:50:22.772967Z"
    }
   },
   "source": [
    "# Space A with Indiscrete Topology\n",
    "space_A = {1, 2}\n",
    "collection_A = [\n",
    "    set(),\n",
    "    {1, 2}\n",
    "]\n",
    "topo_A = Topology(space_A, collection_A)\n",
    "\n",
    "# Space B with Indiscrete Topology\n",
    "space_B = {'a', 'b'}\n",
    "collection_B = [\n",
    "    set(),\n",
    "    {'a', 'b'}\n",
    "]\n",
    "topo_B = Topology(space_B, collection_B)"
   ],
   "outputs": [],
   "execution_count": 10
  },
  {
   "cell_type": "markdown",
   "id": "1fee9ee75fa1d102",
   "metadata": {},
   "source": [
    "### Checking for Homeomorphism\n",
    "\n",
    "A **homeomorphism** is a bijective continuous function whose inverse is also continuous. If two topological spaces are related by a homeomorphism, they are considered **topologically equivalent**, meaning they have the same \"shape\" from a topological perspective.\n",
    "\n",
    "To verify if our function is a homeomorphism:\n",
    "1. **Bijectivity** is checked first, ensuring every element of the source maps to a unique element in the target.\n",
    "2. We then create the **inverse function** and verify if it is **continuous**.\n",
    "\n",
    "If both conditions hold, the function is a homeomorphism, and the two topological spaces are said to be equivalent.\n"
   ]
  },
  {
   "cell_type": "code",
   "id": "d82c97677e9bba2e",
   "metadata": {
    "ExecuteTime": {
     "end_time": "2024-10-12T08:50:22.793215Z",
     "start_time": "2024-10-12T08:50:22.781707Z"
    }
   },
   "source": [
    "# homeomorphism h: A -> B\n",
    "mapping_h = {\n",
    "    1: 'a',\n",
    "    2: 'b'\n",
    "}\n",
    "h = Function(topo_A, topo_B, mapping_h)\n",
    "\n",
    "print(f\"Function h is homeomorphism? {h.is_homeomorphism()}\")"
   ],
   "outputs": [
    {
     "name": "stdout",
     "output_type": "stream",
     "text": [
      "Function h is homeomorphism? True\n"
     ]
    }
   ],
   "execution_count": 11
  },
  {
   "cell_type": "code",
   "id": "cf3012b009130ece",
   "metadata": {
    "ExecuteTime": {
     "end_time": "2024-10-12T08:50:22.806031Z",
     "start_time": "2024-10-12T08:50:22.801313Z"
    }
   },
   "source": [
    "# no bijective h': A -> B\n",
    "mapping_h_prime = {\n",
    "    1: 'a',\n",
    "    2: 'a'\n",
    "}\n",
    "h_prime = Function(topo_A, topo_B, mapping_h_prime)\n",
    "\n",
    "print(f\"Function h' is homeomorphism? {h_prime.is_homeomorphism()}\")"
   ],
   "outputs": [
    {
     "name": "stdout",
     "output_type": "stream",
     "text": [
      "The function is not bijective; therefore, it cannot be a homeomorphism.\n",
      "Function h' is homeomorphism? False\n"
     ]
    }
   ],
   "execution_count": 12
  },
  {
   "metadata": {
    "ExecuteTime": {
     "end_time": "2024-10-12T08:50:22.821792Z",
     "start_time": "2024-10-12T08:50:22.818944Z"
    }
   },
   "cell_type": "code",
   "source": "",
   "id": "2219e1887796c2a3",
   "outputs": [],
   "execution_count": null
  }
 ],
 "metadata": {
  "kernelspec": {
   "display_name": "Python 3 (ipykernel)",
   "language": "python",
   "name": "python3"
  },
  "language_info": {
   "codemirror_mode": {
    "name": "ipython",
    "version": 3
   },
   "file_extension": ".py",
   "mimetype": "text/x-python",
   "name": "python",
   "nbconvert_exporter": "python",
   "pygments_lexer": "ipython3",
   "version": "3.11.2"
  }
 },
 "nbformat": 4,
 "nbformat_minor": 5
}
