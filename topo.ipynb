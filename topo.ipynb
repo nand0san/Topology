{
 "cells": [
  {
   "cell_type": "code",
   "id": "initial_id",
   "metadata": {
    "collapsed": true,
    "ExecuteTime": {
     "end_time": "2024-10-01T07:17:42.539579Z",
     "start_time": "2024-10-01T07:17:42.520432Z"
    }
   },
   "source": [
    "from topo import Topology\n",
    "from known_topologies import create_discrete_topology, create_trivial_topology, create_sierpinski_topology"
   ],
   "outputs": [],
   "execution_count": 1
  },
  {
   "metadata": {},
   "cell_type": "markdown",
   "source": "# Toplogías finitas ",
   "id": "438ad8ab869c857b"
  },
  {
   "metadata": {
    "ExecuteTime": {
     "end_time": "2024-10-01T07:17:42.633756Z",
     "start_time": "2024-10-01T07:17:42.628973Z"
    }
   },
   "cell_type": "code",
   "source": [
    "space = {1, 2, 3}\n",
    "collection_of_subsets = [\n",
    "    set(),          # Empty set\n",
    "    {1, 2, 3},      # Total space\n",
    "    {1}, {2},\n",
    "    {1, 2}, {2, 3}\n",
    "]"
   ],
   "id": "783b5e1f8d9b1002",
   "outputs": [],
   "execution_count": 2
  },
  {
   "metadata": {
    "ExecuteTime": {
     "end_time": "2024-10-01T07:17:42.906563Z",
     "start_time": "2024-10-01T07:17:42.893590Z"
    }
   },
   "cell_type": "code",
   "source": [
    "topo = Topology(space, collection_of_subsets)\n",
    "topo.is_topology()"
   ],
   "id": "1308fbb3fe8a6149",
   "outputs": [
    {
     "name": "stdout",
     "output_type": "stream",
     "text": [
      "The collection is a topology.\n"
     ]
    },
    {
     "data": {
      "text/plain": [
       "True"
      ]
     },
     "execution_count": 3,
     "metadata": {},
     "output_type": "execute_result"
    }
   ],
   "execution_count": 3
  },
  {
   "metadata": {
    "ExecuteTime": {
     "end_time": "2024-10-01T07:18:04.099978Z",
     "start_time": "2024-10-01T07:18:04.090748Z"
    }
   },
   "cell_type": "code",
   "source": "topo.get_basis()",
   "id": "39d66aaa2a82d2fb",
   "outputs": [
    {
     "data": {
      "text/plain": [
       "[{1}, {2}, {3}]"
      ]
     },
     "execution_count": 15,
     "metadata": {},
     "output_type": "execute_result"
    }
   ],
   "execution_count": 15
  },
  {
   "metadata": {},
   "cell_type": "markdown",
   "source": "# Añadiendo sets",
   "id": "89acf1f192846938"
  },
  {
   "metadata": {
    "ExecuteTime": {
     "end_time": "2024-10-01T07:17:42.998899Z",
     "start_time": "2024-10-01T07:17:42.988781Z"
    }
   },
   "cell_type": "code",
   "source": "topo.add_set({1, 3})",
   "id": "23cd88cd87fa524f",
   "outputs": [
    {
     "name": "stdout",
     "output_type": "stream",
     "text": [
      "Added set {1, 3} to the collection.\n",
      "The intersection {3} is not in the collection.\n",
      "After adding, the collection is no longer a topology.\n"
     ]
    },
    {
     "data": {
      "text/plain": [
       "False"
      ]
     },
     "execution_count": 4,
     "metadata": {},
     "output_type": "execute_result"
    }
   ],
   "execution_count": 4
  },
  {
   "metadata": {
    "ExecuteTime": {
     "end_time": "2024-10-01T07:17:43.095645Z",
     "start_time": "2024-10-01T07:17:43.085392Z"
    }
   },
   "cell_type": "code",
   "source": "topo",
   "id": "af61b364fd68801c",
   "outputs": [
    {
     "data": {
      "text/plain": [
       "Topology(\n",
       "  Space: {1, 2, 3},\n",
       "  Collection of Subsets:\n",
       "    [set(), {1, 2, 3}, {1}, {2}, {1, 2}, {2, 3}, {1, 3}]\n",
       ")"
      ]
     },
     "execution_count": 5,
     "metadata": {},
     "output_type": "execute_result"
    }
   ],
   "execution_count": 5
  },
  {
   "metadata": {
    "ExecuteTime": {
     "end_time": "2024-10-01T07:17:43.150652Z",
     "start_time": "2024-10-01T07:17:43.141441Z"
    }
   },
   "cell_type": "code",
   "source": [
    "# la volvemos a dejar como estaba\n",
    "topo = Topology(space, collection_of_subsets)\n",
    "topo.is_topology()"
   ],
   "id": "3fecaa9f475e0ba0",
   "outputs": [
    {
     "name": "stdout",
     "output_type": "stream",
     "text": [
      "The collection is a topology.\n"
     ]
    },
    {
     "data": {
      "text/plain": [
       "True"
      ]
     },
     "execution_count": 6,
     "metadata": {},
     "output_type": "execute_result"
    }
   ],
   "execution_count": 6
  },
  {
   "metadata": {},
   "cell_type": "markdown",
   "source": "# Comparando Topologías",
   "id": "3a92e8700aed14a3"
  },
  {
   "metadata": {
    "ExecuteTime": {
     "end_time": "2024-10-01T07:17:43.245358Z",
     "start_time": "2024-10-01T07:17:43.238102Z"
    }
   },
   "cell_type": "code",
   "source": [
    "# Second topology\n",
    "space2 = {'a', 'b', 'c'}\n",
    "collection2 = [\n",
    "    set(),\n",
    "    {'a'}, {'b'},\n",
    "    {'a', 'b', 'c'},\n",
    "    {'a', 'b'}, {'b', 'c'}\n",
    "]\n",
    "topo2 = Topology(space2, collection2)"
   ],
   "id": "4dc24e321548f83b",
   "outputs": [],
   "execution_count": 7
  },
  {
   "metadata": {
    "ExecuteTime": {
     "end_time": "2024-10-01T07:17:43.284674Z",
     "start_time": "2024-10-01T07:17:43.278171Z"
    }
   },
   "cell_type": "code",
   "source": [
    "print(f\"Topology 1:\\n{topo}\")\n",
    "print(f\"Topology 2:\\n{topo2}\")"
   ],
   "id": "f64019d01f6d710b",
   "outputs": [
    {
     "name": "stdout",
     "output_type": "stream",
     "text": [
      "Topology 1:\n",
      "Topology(\n",
      "  Space: {1, 2, 3},\n",
      "  Collection of Subsets:\n",
      "    [set(), {1, 2, 3}, {1}, {2}, {1, 2}, {2, 3}]\n",
      ")\n",
      "Topology 2:\n",
      "Topology(\n",
      "  Space: {'a', 'c', 'b'},\n",
      "  Collection of Subsets:\n",
      "    [set(), {'a'}, {'b'}, {'a', 'c', 'b'}, {'a', 'b'}, {'c', 'b'}]\n",
      ")\n"
     ]
    }
   ],
   "execution_count": 8
  },
  {
   "metadata": {
    "ExecuteTime": {
     "end_time": "2024-10-01T07:17:43.320726Z",
     "start_time": "2024-10-01T07:17:43.315432Z"
    }
   },
   "cell_type": "code",
   "source": "print(f\"Are the two topologies structurally equal? {topo.is_structurally_equal(topo2)}\")",
   "id": "9b36a5c3ec9b85da",
   "outputs": [
    {
     "name": "stdout",
     "output_type": "stream",
     "text": [
      "Are the two topologies structurally equal? True\n"
     ]
    }
   ],
   "execution_count": 9
  },
  {
   "metadata": {},
   "cell_type": "markdown",
   "source": "# Homeomorfismos",
   "id": "ce4e55393f7a6d3a"
  },
  {
   "metadata": {
    "ExecuteTime": {
     "end_time": "2024-10-01T07:17:43.398910Z",
     "start_time": "2024-10-01T07:17:43.391018Z"
    }
   },
   "cell_type": "code",
   "source": [
    "known_topologies = {\n",
    "    \"Discrete Topology (2 elements)\": create_discrete_topology({0, 1}),\n",
    "    \"Trivial Topology (2 elements)\": create_trivial_topology({0, 1}),\n",
    "    \"Sierpiński Topology\": create_sierpinski_topology()\n",
    "}"
   ],
   "id": "75b58c51df9cf734",
   "outputs": [],
   "execution_count": 10
  },
  {
   "metadata": {
    "ExecuteTime": {
     "end_time": "2024-10-01T07:17:43.432433Z",
     "start_time": "2024-10-01T07:17:43.420898Z"
    }
   },
   "cell_type": "code",
   "source": [
    "# Define your topology\n",
    "space = {1, 2}\n",
    "collection_of_subsets = [\n",
    "    set(),          # Empty set\n",
    "    {1, 2},         # Total space\n",
    "    {1}\n",
    "]\n",
    "my_topology = Topology(space, collection_of_subsets)\n",
    "\n",
    "# Check if it's a valid topology\n",
    "my_topology.is_topology()"
   ],
   "id": "7bb27de8bcb54bf0",
   "outputs": [
    {
     "name": "stdout",
     "output_type": "stream",
     "text": [
      "The collection is a topology.\n"
     ]
    },
    {
     "data": {
      "text/plain": [
       "True"
      ]
     },
     "execution_count": 11,
     "metadata": {},
     "output_type": "execute_result"
    }
   ],
   "execution_count": 11
  },
  {
   "metadata": {
    "ExecuteTime": {
     "end_time": "2024-10-01T07:18:32.084627Z",
     "start_time": "2024-10-01T07:18:32.075785Z"
    }
   },
   "cell_type": "code",
   "source": "my_topology.get_basis()",
   "id": "9925b071dbb00558",
   "outputs": [
    {
     "data": {
      "text/plain": [
       "[{1, 2}, {1}]"
      ]
     },
     "execution_count": 16,
     "metadata": {},
     "output_type": "execute_result"
    }
   ],
   "execution_count": 16
  },
  {
   "metadata": {
    "ExecuteTime": {
     "end_time": "2024-10-01T07:17:43.519990Z",
     "start_time": "2024-10-01T07:17:43.511972Z"
    }
   },
   "cell_type": "code",
   "source": [
    "# Identify the topology\n",
    "matches = my_topology.identify_topology(known_topologies)\n",
    "if matches:\n",
    "    print(f\"The topology is homeomorphic to: {', '.join(matches)}\")\n",
    "else:\n",
    "    print(\"The topology does not match any known topologies.\")"
   ],
   "id": "373c99c2e2987dcd",
   "outputs": [
    {
     "name": "stdout",
     "output_type": "stream",
     "text": [
      "The topology is homeomorphic to: Sierpiński Topology\n"
     ]
    }
   ],
   "execution_count": 12
  },
  {
   "metadata": {},
   "cell_type": "markdown",
   "source": "# Bases",
   "id": "693fe2db0a156cbc"
  },
  {
   "metadata": {
    "ExecuteTime": {
     "end_time": "2024-10-01T07:17:43.603323Z",
     "start_time": "2024-10-01T07:17:43.590214Z"
    }
   },
   "cell_type": "code",
   "source": [
    "# Define the topology\n",
    "space = {1, 2, 3}\n",
    "collection_of_subsets = [\n",
    "    set(),          # Empty set\n",
    "    {1, 2, 3},      # Total space\n",
    "    {1}, {2}, {3},\n",
    "    {1, 2}, {2, 3}, {1, 3}\n",
    "]\n",
    "\n",
    "# Create the topology instance\n",
    "topo = Topology(space, collection_of_subsets)\n",
    "topo.is_topology()"
   ],
   "id": "7ae7b6546876fbbf",
   "outputs": [
    {
     "name": "stdout",
     "output_type": "stream",
     "text": [
      "The collection is a topology.\n"
     ]
    },
    {
     "data": {
      "text/plain": [
       "True"
      ]
     },
     "execution_count": 13,
     "metadata": {},
     "output_type": "execute_result"
    }
   ],
   "execution_count": 13
  },
  {
   "metadata": {
    "ExecuteTime": {
     "end_time": "2024-10-01T07:17:43.806218Z",
     "start_time": "2024-10-01T07:17:43.799981Z"
    }
   },
   "cell_type": "code",
   "source": [
    "# Get the basis of the topology\n",
    "basis = topo.get_basis()\n",
    "\n",
    "# Print the basis\n",
    "print(\"Basis of the topology:\")\n",
    "for b in basis:\n",
    "    print(b)"
   ],
   "id": "ed26c1c98e8d512a",
   "outputs": [
    {
     "name": "stdout",
     "output_type": "stream",
     "text": [
      "Basis of the topology:\n",
      "{1}\n",
      "{2}\n",
      "{3}\n"
     ]
    }
   ],
   "execution_count": 14
  },
  {
   "metadata": {
    "ExecuteTime": {
     "end_time": "2024-10-01T07:17:43.903602Z",
     "start_time": "2024-10-01T07:17:43.899410Z"
    }
   },
   "cell_type": "code",
   "source": "",
   "id": "7e1a834cd135fedc",
   "outputs": [],
   "execution_count": null
  }
 ],
 "metadata": {
  "kernelspec": {
   "display_name": "Python 3",
   "language": "python",
   "name": "python3"
  },
  "language_info": {
   "codemirror_mode": {
    "name": "ipython",
    "version": 2
   },
   "file_extension": ".py",
   "mimetype": "text/x-python",
   "name": "python",
   "nbconvert_exporter": "python",
   "pygments_lexer": "ipython2",
   "version": "2.7.6"
  }
 },
 "nbformat": 4,
 "nbformat_minor": 5
}
