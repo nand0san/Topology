{
 "cells": [
  {
   "cell_type": "code",
   "id": "initial_id",
   "metadata": {
    "ExecuteTime": {
     "end_time": "2024-10-12T08:20:06.774274Z",
     "start_time": "2024-10-12T08:20:06.766488Z"
    }
   },
   "source": [
    "from finite_topology.topology import Topology\n",
    "from finite_topology.known_topologies import create_alexandrov_topology, create_discrete_topology"
   ],
   "outputs": [],
   "execution_count": 1
  },
  {
   "cell_type": "markdown",
   "id": "423bac95160e7fba",
   "metadata": {},
   "source": [
    "### **1. Definitions of Separation Axioms $T_0$, $T_1$, and $T_2$ (Hausdorff)**\n",
    "\n",
    "#### **Axiom $T_0$ ($T_0$ Space)**\n",
    "\n",
    "**Definition:**\n",
    "A topological space $(X, \\tau)$ is **$T_0$** if **for every pair of distinct points**, at least one of them has a **neighborhood** that does not contain the other. In other words, **no two points are topologically indistinguishable**.\n",
    "\n",
    "**Formally:**\n",
    "For any $x, y \\in X$ with $x \\neq y$, **there exists** an open set $U$ such that either $x \\in U$ and $y \\notin U$, **or** $y \\in U$ and $x \\notin U$.\n",
    "\n",
    "**Example:**\n",
    "Consider the space $X = \\{a, b\\}$ with the topology $\\tau = \\{\\emptyset, \\{a\\}, X\\}$. This space is **$T_0$** because:\n",
    "- For points $a$ and $b$:\n",
    "  - $a$ is in $\\{a\\}$, but $b$ is not.\n",
    "  - There is no open set containing $b$ that does not contain $a$, but the condition only requires that **at least one** of the points has such a neighborhood.\n",
    "\n"
   ]
  },
  {
   "cell_type": "code",
   "id": "2ca77c0b4c374534",
   "metadata": {
    "ExecuteTime": {
     "end_time": "2024-10-12T08:20:06.786512Z",
     "start_time": "2024-10-12T08:20:06.778285Z"
    }
   },
   "source": [
    "space_T0 = {'a', 'b', 'c'}\n",
    "collection_T0 = [\n",
    "    set(),\n",
    "    {'a', 'b', 'c'},\n",
    "    {'a', 'b'},\n",
    "    {'a'},\n",
    "]\n",
    "topo_T0 = Topology(space_T0, collection_T0)\n",
    "topo_T0"
   ],
   "outputs": [
    {
     "data": {
      "text/plain": [
       "Topology(\n",
       "  Space: ['a', 'b', 'c'],\n",
       "  Collection of Subsets:\n",
       "    ['a', 'b', 'c']\n",
       "    []\n",
       "    ['a']\n",
       "    ['a', 'b']\n",
       ")"
      ]
     },
     "execution_count": 2,
     "metadata": {},
     "output_type": "execute_result"
    }
   ],
   "execution_count": 2
  },
  {
   "cell_type": "code",
   "id": "2d96fd342342f3a5",
   "metadata": {
    "ExecuteTime": {
     "end_time": "2024-10-12T08:20:06.922202Z",
     "start_time": "2024-10-12T08:20:06.918284Z"
    }
   },
   "source": [
    "print(f\"¿Is T0 space? {topo_T0.is_T0()}\")"
   ],
   "outputs": [
    {
     "name": "stdout",
     "output_type": "stream",
     "text": [
      "¿Is T0 space? True\n"
     ]
    }
   ],
   "execution_count": 3
  },
  {
   "cell_type": "code",
   "id": "e21cfb89272c51f1",
   "metadata": {
    "ExecuteTime": {
     "end_time": "2024-10-12T08:20:06.945313Z",
     "start_time": "2024-10-12T08:20:06.939723Z"
    }
   },
   "source": [
    "# Space definition T0\n",
    "space_T0 = {'a', 'b', 'c'}\n",
    "collection_T0 = [\n",
    "    set(),\n",
    "    {'a', 'b', 'c'},\n",
    "    {'a', 'b'},\n",
    "]\n",
    "topo_T0 = Topology(space_T0, collection_T0)\n",
    "topo_T0"
   ],
   "outputs": [
    {
     "data": {
      "text/plain": [
       "Topology(\n",
       "  Space: ['a', 'b', 'c'],\n",
       "  Collection of Subsets:\n",
       "    ['a', 'b', 'c']\n",
       "    []\n",
       "    ['a', 'b']\n",
       ")"
      ]
     },
     "execution_count": 4,
     "metadata": {},
     "output_type": "execute_result"
    }
   ],
   "execution_count": 4
  },
  {
   "cell_type": "code",
   "id": "8bdbb08034bcf11f",
   "metadata": {
    "ExecuteTime": {
     "end_time": "2024-10-12T08:20:06.970130Z",
     "start_time": "2024-10-12T08:20:06.966773Z"
    }
   },
   "source": [
    "# Verify T0\n",
    "print(f\"¿Is T0? {topo_T0.is_T0()}\")"
   ],
   "outputs": [
    {
     "name": "stdout",
     "output_type": "stream",
     "text": [
      "Cannot separate a and b in a T0 space.\n",
      "¿Is T0? False\n"
     ]
    }
   ],
   "execution_count": 5
  },
  {
   "cell_type": "markdown",
   "id": "4958b169da7287ac",
   "metadata": {},
   "source": [
    "#### **Axiom $T_1$ ($T_1$ Space)**\n",
    "\n",
    "**Definition:**\n",
    "A topological space $(X, \\tau)$ is **$T_1$** if **for every pair of distinct points**, each has a **neighborhood** that **does not contain the other**. In other words, **every point is closed**.\n",
    "\n",
    "**Formally:**\n",
    "For any $x, y \\in X$ with $x \\neq y$, there exist open sets $U$ and $V$ such that:\n",
    "- $x \\in U$ and $y \\notin U$\n",
    "- $y \\in V$ and $x \\notin V$\n",
    "\n",
    "**Example:**\n",
    "The space $X = \\{a, b\\}$ with the topology $\\tau = \\{\\emptyset, \\{a\\}, \\{b\\}, X\\}$ is **$T_1** because:\n",
    "- For $a$ and $b$:\n",
    "  - $a \\in \\{a\\}$ and $b \\notin \\{a\\}$\n",
    "  - $b \\in \\{b\\}$ and $a \\notin \\{b\\}$\n",
    "\n",
    "#### **Important Result for Finite Spaces:**\n",
    "In **finite topological spaces**, a space is $T_1$ if and only if the topology is **discrete**. This means that for finite sets, the only topology that satisfies the $T_1$ condition is the **discrete topology**.\n",
    "\n",
    "This is discussed in detail in [this thread on Math Stack Exchange](https://math.stackexchange.com/questions/2609583/a-finite-topological-space-is-t1-if-and-only-the-topology-is-discrete).\n"
   ]
  },
  {
   "metadata": {
    "ExecuteTime": {
     "end_time": "2024-10-12T08:20:06.999404Z",
     "start_time": "2024-10-12T08:20:06.993773Z"
    }
   },
   "cell_type": "code",
   "source": [
    "space_T1 = {'a', 'b', 'c'}\n",
    "\n",
    "topo_T1 = create_discrete_topology(space=space_T1)\n",
    "topo_T1"
   ],
   "id": "d9dd3a807facb372",
   "outputs": [
    {
     "data": {
      "text/plain": [
       "Topology(\n",
       "  Space: ['a', 'b', 'c'],\n",
       "  Collection of Subsets:\n",
       "    ['a', 'b', 'c']\n",
       "    []\n",
       "    ['c']\n",
       "    ['a']\n",
       "    ['b']\n",
       "    ['a', 'c']\n",
       "    ['b', 'c']\n",
       "    ['a', 'b']\n",
       ")"
      ]
     },
     "execution_count": 6,
     "metadata": {},
     "output_type": "execute_result"
    }
   ],
   "execution_count": 6
  },
  {
   "cell_type": "code",
   "id": "f8272df6-1eda-4700-bcf9-f55ef6e1c253",
   "metadata": {
    "ExecuteTime": {
     "end_time": "2024-10-12T08:20:07.029034Z",
     "start_time": "2024-10-12T08:20:07.022526Z"
    }
   },
   "source": [
    "topo_T1.is_discrete()"
   ],
   "outputs": [
    {
     "data": {
      "text/plain": [
       "True"
      ]
     },
     "execution_count": 7,
     "metadata": {},
     "output_type": "execute_result"
    }
   ],
   "execution_count": 7
  },
  {
   "cell_type": "code",
   "id": "862dbc8fcf236a87",
   "metadata": {
    "ExecuteTime": {
     "end_time": "2024-10-12T08:20:07.055177Z",
     "start_time": "2024-10-12T08:20:07.052251Z"
    }
   },
   "source": [
    "print(f\"¿Is T1? {topo_T1.is_T1()}\")"
   ],
   "outputs": [
    {
     "name": "stdout",
     "output_type": "stream",
     "text": [
      "¿Is T1? True\n"
     ]
    }
   ],
   "execution_count": 8
  },
  {
   "cell_type": "code",
   "id": "5ed137a3e7b97383",
   "metadata": {
    "ExecuteTime": {
     "end_time": "2024-10-12T08:20:07.084675Z",
     "start_time": "2024-10-12T08:20:07.080060Z"
    }
   },
   "source": [
    "# not T_1 example\n",
    "space_T1 = {'a', 'b', 'c'}\n",
    "collection_T1 = [\n",
    "    set(),\n",
    "    {'a', 'b', 'c'},\n",
    "    {'a', 'b'},\n",
    "    {'a'},\n",
    "    {'b'},\n",
    "]\n",
    "topo_T1 = Topology(space_T1, collection_T1)\n",
    "topo_T1"
   ],
   "outputs": [
    {
     "data": {
      "text/plain": [
       "Topology(\n",
       "  Space: ['a', 'b', 'c'],\n",
       "  Collection of Subsets:\n",
       "    ['a', 'b', 'c']\n",
       "    []\n",
       "    ['a']\n",
       "    ['b']\n",
       "    ['a', 'b']\n",
       ")"
      ]
     },
     "execution_count": 9,
     "metadata": {},
     "output_type": "execute_result"
    }
   ],
   "execution_count": 9
  },
  {
   "cell_type": "code",
   "id": "6ee449f6-a131-4f42-9a30-5d5c708a7524",
   "metadata": {
    "ExecuteTime": {
     "end_time": "2024-10-12T08:20:07.110113Z",
     "start_time": "2024-10-12T08:20:07.105924Z"
    }
   },
   "source": [
    "topo_T1.is_discrete()"
   ],
   "outputs": [
    {
     "data": {
      "text/plain": [
       "False"
      ]
     },
     "execution_count": 10,
     "metadata": {},
     "output_type": "execute_result"
    }
   ],
   "execution_count": 10
  },
  {
   "cell_type": "code",
   "id": "178d340e3baeb4e3",
   "metadata": {
    "ExecuteTime": {
     "end_time": "2024-10-12T08:20:07.133182Z",
     "start_time": "2024-10-12T08:20:07.130012Z"
    }
   },
   "source": [
    "# this is not T_1\n",
    "print(f\"¿Is T1? {topo_T1.is_T1()}\")"
   ],
   "outputs": [
    {
     "name": "stdout",
     "output_type": "stream",
     "text": [
      "Point a is not closed, complement {'c', 'b'} is not open.\n",
      "¿Is T1? False\n"
     ]
    }
   ],
   "execution_count": 11
  },
  {
   "cell_type": "markdown",
   "id": "5c8cdb059da522d2",
   "metadata": {},
   "source": [
    "### **Connected Spaces**\n",
    "\n",
    "A topological space is **connected** if it is not possible to partition it into two disjoint non-empty open sets whose union is the entire space. In other words, a space is connected if there are no non-trivial open sets that are both open and closed.\n",
    "\n",
    "**Key Property:**\n",
    "If a space can be divided into two disjoint open sets whose union is the entire space, it is **disconnected**."
   ]
  },
  {
   "cell_type": "code",
   "id": "7c4773ea443c8f78",
   "metadata": {
    "ExecuteTime": {
     "end_time": "2024-10-12T08:20:07.166467Z",
     "start_time": "2024-10-12T08:20:07.162115Z"
    }
   },
   "source": [
    "space = {1, 2, 3}\n",
    "collection_of_subsets = [\n",
    "    set(),\n",
    "    {1, 2, 3},\n",
    "    {1},\n",
    "    {2},\n",
    "    {3},\n",
    "    {1, 2},\n",
    "    {1, 3},\n",
    "    {2, 3}\n",
    "]\n",
    "topo = Topology(space, collection_of_subsets)\n",
    "\n",
    "print(f\"¿Is connected? {topo.is_connected()}\")"
   ],
   "outputs": [
    {
     "name": "stdout",
     "output_type": "stream",
     "text": [
      "Space separated into U=[1] and V=[2, 3].\n",
      "¿Is connected? False\n"
     ]
    }
   ],
   "execution_count": 12
  },
  {
   "cell_type": "code",
   "id": "4c3d2559517de8d5",
   "metadata": {
    "ExecuteTime": {
     "end_time": "2024-10-12T08:20:07.194128Z",
     "start_time": "2024-10-12T08:20:07.189734Z"
    }
   },
   "source": [
    "space = {1, 2, 3, 4}\n",
    "collection_of_subsets = [\n",
    "    set(),\n",
    "    space,\n",
    "    {1, 2},\n",
    "]\n",
    "topo = Topology(space, collection_of_subsets)\n",
    "topo"
   ],
   "outputs": [
    {
     "data": {
      "text/plain": [
       "Topology(\n",
       "  Space: [1, 2, 3, 4],\n",
       "  Collection of Subsets:\n",
       "    [1, 2, 3, 4]\n",
       "    []\n",
       "    [1, 2]\n",
       ")"
      ]
     },
     "execution_count": 13,
     "metadata": {},
     "output_type": "execute_result"
    }
   ],
   "execution_count": 13
  },
  {
   "cell_type": "code",
   "id": "9a209fac6c76bee3",
   "metadata": {
    "ExecuteTime": {
     "end_time": "2024-10-12T08:20:07.221240Z",
     "start_time": "2024-10-12T08:20:07.217881Z"
    }
   },
   "source": [
    "print(f\"¿Is connected? {topo.is_connected()}\")"
   ],
   "outputs": [
    {
     "name": "stdout",
     "output_type": "stream",
     "text": [
      "¿Is connected? True\n"
     ]
    }
   ],
   "execution_count": 14
  },
  {
   "cell_type": "markdown",
   "id": "1ae11793dbc17a98",
   "metadata": {},
   "source": [
    "### **Connectedness in Alexandrov Spaces**\n",
    "\n",
    "In Alexandrov topologies, connectedness can be analyzed similarly by checking whether the space can be partitioned into disjoint open sets. However, Alexandrov spaces often exhibit unique properties due to the fact that arbitrary intersections of open sets are also open."
   ]
  },
  {
   "cell_type": "code",
   "id": "3b3c8d034fbd8fdd",
   "metadata": {
    "ExecuteTime": {
     "end_time": "2024-10-12T08:20:07.249675Z",
     "start_time": "2024-10-12T08:20:07.244970Z"
    }
   },
   "source": [
    "space = {'a', 'b', 'c'}\n",
    "\n",
    "# Define the order relation\n",
    "def order_relation(x, y):\n",
    "    return x <= y  # Standard less than or equal\n",
    "\n",
    "# Create the topology\n",
    "alexandrov_topo = create_alexandrov_topology(space, order_relation)\n",
    "alexandrov_topo"
   ],
   "outputs": [
    {
     "data": {
      "text/plain": [
       "Topology(\n",
       "  Space: ['a', 'b', 'c'],\n",
       "  Collection of Subsets:\n",
       "    ['a', 'b', 'c']\n",
       "    []\n",
       "    ['c']\n",
       "    ['b', 'c']\n",
       ")"
      ]
     },
     "execution_count": 15,
     "metadata": {},
     "output_type": "execute_result"
    }
   ],
   "execution_count": 15
  },
  {
   "cell_type": "code",
   "id": "a965d39b01c8eb45",
   "metadata": {
    "ExecuteTime": {
     "end_time": "2024-10-12T08:20:07.280238Z",
     "start_time": "2024-10-12T08:20:07.276527Z"
    }
   },
   "source": [
    "# Check if it is connected\n",
    "print(f\"Is the Alexandrov topology connected? {alexandrov_topo.is_connected()}\")"
   ],
   "outputs": [
    {
     "name": "stdout",
     "output_type": "stream",
     "text": [
      "Is the Alexandrov topology connected? True\n"
     ]
    }
   ],
   "execution_count": 16
  },
  {
   "cell_type": "markdown",
   "id": "489d73e882cb1087",
   "metadata": {},
   "source": [
    "### **Compactness**\n",
    "\n",
    "In finite topological spaces, compactness is **trivial**, as every finite topology is compact.\n",
    "\n",
    "#### **Formal Definition**\n",
    "\n",
    "A topological space $(X, \\tau)$ is **compact** if **every open cover** of $X$ has a **finite subcover**.\n",
    "\n",
    "$$\n",
    "\\text{A space is compact if every open cover has a finite subcover.}\n",
    "$$\n",
    "\n",
    "#### **Important Result for Finite Spaces:**\n",
    "In finite topologies, since the number of open sets is limited, it is always possible to cover the entire space with a finite number of open sets. That's why Compactness is \n",
    "**trivial**."
   ]
  },
  {
   "cell_type": "code",
   "id": "6063a8deae4a19d2",
   "metadata": {
    "ExecuteTime": {
     "end_time": "2024-10-12T08:20:07.304230Z",
     "start_time": "2024-10-12T08:20:07.300090Z"
    }
   },
   "source": [
    "topo.is_compact(), alexandrov_topo.is_compact()"
   ],
   "outputs": [
    {
     "data": {
      "text/plain": [
       "(True, True)"
      ]
     },
     "execution_count": 17,
     "metadata": {},
     "output_type": "execute_result"
    }
   ],
   "execution_count": 17
  },
  {
   "cell_type": "markdown",
   "id": "b10b3c181e0f4c4b",
   "metadata": {},
   "source": [
    "### **$T_2$ Axiom (Hausdorff Space $T_2$)**\n",
    "\n",
    "#### **Definition:**\n",
    "A topological space $(X, \\tau)$ is called **Hausdorff** or **$T_2$** if **any two distinct points** can be **separated** by **disjoint open neighborhoods**. This means that **there exist two open sets** $U$ and $V$ such that:\n",
    "- $x \\in U$,\n",
    "- $y \\in V$,\n",
    "- $U \\cap V = \\emptyset$.\n",
    "\n",
    "#### **Formally:**\n",
    "For any $x, y \\in X$ with $x \\neq y$, there exist open sets $U$ and $V$ such that:\n",
    "- $x \\in U$,\n",
    "- $y \\in V$,\n",
    "- $U \\cap V = \\emptyset$.\n",
    "\n",
    "#### **Example:**\n",
    "The space $\\mathbb{R}$ with the standard topology (usual open sets) is **Hausdorff** because for any pair of points $x < y$, you can choose $U = (x - \\epsilon, x + \\epsilon)$ and $V = (y - \\epsilon, y + \\epsilon)$ with $\\epsilon$ sufficiently pequeño para que $U$ y $V$ sean disjuntos.\n",
    "\n",
    "### **Hausdorff Spaces in Finite Topologies:**\n",
    "\n",
    "It is important to note that in **finite topological spaces**, **every Hausdorff space is necessarily discrete**. This means that for any finite space, if it satisfies the Hausdorff property, then the only topology that can exist is the **discrete topology**, where all subsets of the space are open.\n",
    "\n",
    "This result is discussed in detail in [this thread on Math Stack Exchange](https://math.stackexchange.com/questions/1567152/a-finite-hausdorff-space-is-discrete). Essentially, the argument relies on the fact that in finite spaces, the only way to separate all pairs of distinct points with disjoint open sets is to make every singleton set an open set, which corresponds to the discrete topology.\n",
    "\n",
    "### **Explanation of the Method:**\n",
    "\n",
    "1. **Iterating Over Pairs of Points:**\n",
    "   \n",
    "   We use `combinations(self.space, 2)` to generate all distinct pairs of points in the space.\n",
    "\n",
    "2. **Finding Separating Open Sets:**\n",
    "   \n",
    "   For each pair $(x, y)$, we look for open sets $U$ and $V$ such that $x \\in U$, $y \\in V$, and $U \\cap V = \\emptyset$.\n",
    "\n",
    "3. **Verification of Disjoint Sets:**\n",
    "   \n",
    "   We use the `isdisjoint` method to verify that $U$ and $V$ have no elements in common.\n",
    "\n",
    "4. **Result:**\n",
    "   \n",
    "   - If we find at least one pair $(U, V)$ that separates $x$ and $y$, we continue to the next pair.\n",
    "   - If we do not find such a pair for any $(x, y)$, the space is **not** Hausdorff, and we return `False`.\n",
    "\n",
    "5. **Conclusion:**\n",
    "   \n",
    "   If all pairs of points can be separated, the space is Hausdorff, and we return `True`.\n",
    "\n",
    "### **Important Note:**\n",
    "As mentioned earlier, in finite spaces, **the only topology that satisfies the Hausdorff condition is the discrete topology**. Therefore, if you're working with a finite topological space and you need it to be Hausdorff, you can immediately conclude that the topology must be discrete.\n"
   ]
  },
  {
   "cell_type": "code",
   "id": "f03ec6afd72c8979",
   "metadata": {
    "ExecuteTime": {
     "end_time": "2024-10-12T08:20:07.329247Z",
     "start_time": "2024-10-12T08:20:07.324311Z"
    }
   },
   "source": [
    "# not T2, not discrete topology\n",
    "space = {1, 2, 3}\n",
    "collection_of_subsets = [\n",
    "    set(),\n",
    "    {1, 2, 3},\n",
    "    {1},\n",
    "    # {2},\n",
    "    # {3},\n",
    "    {1, 2},\n",
    "    {1, 3},\n",
    "    # {2, 3}\n",
    "]\n",
    "topo = Topology(space, collection_of_subsets)\n",
    "topo"
   ],
   "outputs": [
    {
     "data": {
      "text/plain": [
       "Topology(\n",
       "  Space: [1, 2, 3],\n",
       "  Collection of Subsets:\n",
       "    [1, 2, 3]\n",
       "    []\n",
       "    [1]\n",
       "    [1, 2]\n",
       "    [1, 3]\n",
       ")"
      ]
     },
     "execution_count": 18,
     "metadata": {},
     "output_type": "execute_result"
    }
   ],
   "execution_count": 18
  },
  {
   "metadata": {
    "ExecuteTime": {
     "end_time": "2024-10-12T08:20:07.352573Z",
     "start_time": "2024-10-12T08:20:07.348289Z"
    }
   },
   "cell_type": "code",
   "source": "topo.is_discrete()",
   "id": "b9ddb68ce4c49ae1",
   "outputs": [
    {
     "data": {
      "text/plain": [
       "False"
      ]
     },
     "execution_count": 19,
     "metadata": {},
     "output_type": "execute_result"
    }
   ],
   "execution_count": 19
  },
  {
   "cell_type": "code",
   "id": "b2ad2765b3f86214",
   "metadata": {
    "ExecuteTime": {
     "end_time": "2024-10-12T08:20:07.375629Z",
     "start_time": "2024-10-12T08:20:07.371395Z"
    }
   },
   "source": [
    "# Check if it is Hausdorff\n",
    "print(f\"Is the space Hausdorff? {topo.is_hausdorff()}\")"
   ],
   "outputs": [
    {
     "name": "stdout",
     "output_type": "stream",
     "text": [
      "Cannot separate points 1 and 2 with disjoint open sets.\n",
      "Is the space Hausdorff? False\n"
     ]
    }
   ],
   "execution_count": 20
  },
  {
   "metadata": {
    "ExecuteTime": {
     "end_time": "2024-10-12T08:20:07.410647Z",
     "start_time": "2024-10-12T08:20:07.405927Z"
    }
   },
   "cell_type": "code",
   "source": [
    "topo = create_discrete_topology({1,2,3})\n",
    "topo"
   ],
   "id": "625aecd05f13702",
   "outputs": [
    {
     "data": {
      "text/plain": [
       "Topology(\n",
       "  Space: [1, 2, 3],\n",
       "  Collection of Subsets:\n",
       "    [1, 2, 3]\n",
       "    []\n",
       "    [2]\n",
       "    [3]\n",
       "    [1]\n",
       "    [2, 3]\n",
       "    [1, 2]\n",
       "    [1, 3]\n",
       ")"
      ]
     },
     "execution_count": 21,
     "metadata": {},
     "output_type": "execute_result"
    }
   ],
   "execution_count": 21
  },
  {
   "metadata": {
    "ExecuteTime": {
     "end_time": "2024-10-12T08:20:07.432298Z",
     "start_time": "2024-10-12T08:20:07.428090Z"
    }
   },
   "cell_type": "code",
   "source": "topo.is_hausdorff()",
   "id": "a9c86ffec8bf133d",
   "outputs": [
    {
     "data": {
      "text/plain": [
       "True"
      ]
     },
     "execution_count": 22,
     "metadata": {},
     "output_type": "execute_result"
    }
   ],
   "execution_count": 22
  },
  {
   "cell_type": "markdown",
   "id": "d9a637fd4caf26eb",
   "metadata": {},
   "source": [
    "### **Dense Sets**\n",
    "\n",
    "A **dense subset** of a topological space $(X, \\tau)$ is a subset $A \\subseteq X$ such that the **closure** of $A$ is equal to $X$. This means that every point in $X$ is either in $A$ or is a **limit point** of $A$.\n",
    "\n",
    "#### **Formal Definition:**\n",
    "\n",
    "$$\n",
    "\\text{Dense}(A) = \\overline{A} = X\n",
    "$$\n",
    "\n",
    "#### **Triviality in Finite Topologies:**\n",
    "\n",
    "In finite topological spaces, the **entire space** $X$ is always a **trivially dense** subset. This is because, by definition, the closure of $X$ is always $X$ itself. In certain cases, such as the **indiscrete topology**, the **only dense subset** is the entire space, making this a trivial case of density. \n",
    "\n",
    "**Example (Indiscrete Topology):**\n",
    "\n",
    "Let $X = \\{a, b, c\\}$ with the topology $\\tau = \\{\\emptyset, X\\}$. In this topology, the only open sets are the empty set and the entire space, which means that **any non-empty subset** of $X$ is dense. For instance, the set $\\{a\\}$ is dense because its closure is $X$.\n",
    "\n",
    "In this sense, it is important to note that the entire space is **always trivially dense**, but if it is the **only dense subset**, the space is often considered to be trivially dense in a more general sense.\n",
    "\n",
    "#### **Non-Trivial Dense Subsets:**\n",
    "\n",
    "However, not all topologies have only the space as a dense subset. In certain topologies, other **non-trivial subsets** can also be dense.\n",
    "\n",
    "#### **Examples of Dense Sets in Non-Discrete Topologies:**\n",
    "\n",
    "1. **Indiscrete Topology:**\n",
    "\n",
    "   For a set $X = \\{a, b, c\\}$ with the topology $\\tau = \\{\\emptyset, X\\}$, any non-empty subset is dense, as the closure of any non-empty subset is the entire space $X$. For example, the set $\\{a\\}$ is dense because its closure is $X$.\n",
    "\n",
    "2. **Topologies with Particular Points:**\n",
    "\n",
    "   In a **particular point topology**, where all open sets must contain a specific point $p \\in X$, any subset containing this point will be dense. For example, if $X = \\{a, b, c\\}$ and the topology includes sets containing $b$, then $\\{b\\}$ is dense.\n",
    "\n",
    "3. **Excluded Point Topology:**\n",
    "\n",
    "   In an **excluded point topology**, where the open sets are those that do not contain a specific point $p \\in X$, the subset containing all points except the excluded point will be dense. For instance, in $X = \\{a, b, c\\}$, if $b$ is the excluded point, then $\\{a, c\\}$ will be dense.\n",
    "\n",
    "In summary, while the entire space is always dense, **finite topologies** may also contain smaller, **non-trivial dense subsets**. The key lies in examining the relationship between the open sets and the closure of subsets within the given topology.\n"
   ]
  },
  {
   "cell_type": "code",
   "id": "ef6fe619b64cb43f",
   "metadata": {
    "ExecuteTime": {
     "end_time": "2024-10-12T08:20:36.109269Z",
     "start_time": "2024-10-12T08:20:36.104778Z"
    }
   },
   "source": [
    "space = {1, 2, 3}\n",
    "collection_of_subsets = [\n",
    "    set(),\n",
    "    {1, 2, 3},\n",
    "    {1},\n",
    "    {2},\n",
    "    # {3},\n",
    "    {1, 2},\n",
    "    # {1, 3},\n",
    "    # {2, 3}\n",
    "]\n",
    "topo = Topology(space, collection_of_subsets)\n",
    "topo"
   ],
   "outputs": [
    {
     "data": {
      "text/plain": [
       "Topology(\n",
       "  Space: [1, 2, 3],\n",
       "  Collection of Subsets:\n",
       "    [1, 2, 3]\n",
       "    []\n",
       "    [2]\n",
       "    [1]\n",
       "    [1, 2]\n",
       ")"
      ]
     },
     "execution_count": 29,
     "metadata": {},
     "output_type": "execute_result"
    }
   ],
   "execution_count": 29
  },
  {
   "cell_type": "code",
   "id": "ae241d2c7df23dad",
   "metadata": {
    "ExecuteTime": {
     "end_time": "2024-10-12T08:20:37.601594Z",
     "start_time": "2024-10-12T08:20:37.596893Z"
    }
   },
   "source": [
    "topo.find_dense_subset()"
   ],
   "outputs": [
    {
     "data": {
      "text/plain": [
       "{1, 2}"
      ]
     },
     "execution_count": 30,
     "metadata": {},
     "output_type": "execute_result"
    }
   ],
   "execution_count": 30
  },
  {
   "cell_type": "markdown",
   "id": "95a9c511c9f30c14",
   "metadata": {},
   "source": [
    "### **Separable Space**\n",
    "\n",
    "#### **Definition:**\n",
    "\n",
    "A topological space $(X, \\tau)$ is **separable** if there exists a **countable subset** that is **dense** in $X$. In other words, there is a finite or countably infinite set of points whose **closure** is the entire space $X$.\n",
    "\n",
    "#### **Formally:**\n",
    "\n",
    "There exists a sequence $\\{x_n\\}_{n=1}^\\infty \\subseteq X$ such that for every non-empty open set $U \\in \\tau$, $U$ contains at least one point from the sequence.\n",
    "\n",
    "#### **Finite Spaces and Trivial Cases:**\n",
    "\n",
    "In **finite spaces**, separability becomes simpler. Since the space is finite, **any finite dense subset** qualifies. However, it is important to note that the **entire space $X$ itself** is always trivially dense, but this does **not** count as an informative or useful example of separability. Therefore, to consider a space separable in a non-trivial way, we must find a dense subset **smaller than $X$**.\n",
    "\n",
    "For example, in a **particular point topology**, any subset that includes the distinguished point can be dense, making the space separable.\n",
    "\n",
    "#### **Importance:**\n",
    "- **Functional Analysis**: Many important functional spaces are separable.\n",
    "- **Lindelöf Property**: In metric spaces, separability implies the Lindelöf property.\n",
    "- **Problem Simplification**: Allows the use of a countable basis in many cases.\n",
    "\n",
    "#### **Python Implementation:**\n",
    "To check if a space is separable in a finite topological space, the goal is to find a **non-trivial** dense subset (i.e., not the entire space). If such a set exists, the space is separable.\n"
   ]
  },
  {
   "cell_type": "code",
   "id": "beda550ea5ec528e",
   "metadata": {
    "ExecuteTime": {
     "end_time": "2024-10-12T08:24:32.041740Z",
     "start_time": "2024-10-12T08:24:32.036710Z"
    }
   },
   "source": [
    "space = {1, 2, 3}\n",
    "collection_of_subsets = [\n",
    "    set(),\n",
    "    {1, 2, 3},\n",
    "    {1},\n",
    "    {2},\n",
    "    # {3},\n",
    "    {1, 2},\n",
    "    # {1, 3},\n",
    "    # {2, 3}\n",
    "]\n",
    "topo = Topology(space, collection_of_subsets)\n",
    "topo"
   ],
   "outputs": [
    {
     "data": {
      "text/plain": [
       "Topology(\n",
       "  Space: [1, 2, 3],\n",
       "  Collection of Subsets:\n",
       "    [1, 2, 3]\n",
       "    []\n",
       "    [2]\n",
       "    [1]\n",
       "    [1, 2]\n",
       ")"
      ]
     },
     "execution_count": 34,
     "metadata": {},
     "output_type": "execute_result"
    }
   ],
   "execution_count": 34
  },
  {
   "cell_type": "code",
   "id": "1e7d4c2fdd2c546c",
   "metadata": {
    "ExecuteTime": {
     "end_time": "2024-10-12T08:24:32.776343Z",
     "start_time": "2024-10-12T08:24:32.772263Z"
    }
   },
   "source": [
    "topo.find_dense_subset()"
   ],
   "outputs": [
    {
     "data": {
      "text/plain": [
       "{1, 2}"
      ]
     },
     "execution_count": 35,
     "metadata": {},
     "output_type": "execute_result"
    }
   ],
   "execution_count": 35
  },
  {
   "cell_type": "code",
   "id": "416cdc7dab1f0432",
   "metadata": {
    "ExecuteTime": {
     "end_time": "2024-10-12T08:24:33.595631Z",
     "start_time": "2024-10-12T08:24:33.591074Z"
    }
   },
   "source": [
    "topo.is_separable()"
   ],
   "outputs": [
    {
     "data": {
      "text/plain": [
       "True"
      ]
     },
     "execution_count": 36,
     "metadata": {},
     "output_type": "execute_result"
    }
   ],
   "execution_count": 36
  },
  {
   "cell_type": "code",
   "id": "36e7162d2ebcf15f",
   "metadata": {
    "ExecuteTime": {
     "end_time": "2024-10-12T08:20:07.767456Z",
     "start_time": "2024-10-12T08:20:07.764684Z"
    }
   },
   "source": [],
   "outputs": [],
   "execution_count": null
  }
 ],
 "metadata": {
  "kernelspec": {
   "display_name": "Python 3 (ipykernel)",
   "language": "python",
   "name": "python3"
  },
  "language_info": {
   "codemirror_mode": {
    "name": "ipython",
    "version": 3
   },
   "file_extension": ".py",
   "mimetype": "text/x-python",
   "name": "python",
   "nbconvert_exporter": "python",
   "pygments_lexer": "ipython3",
   "version": "3.11.2"
  }
 },
 "nbformat": 4,
 "nbformat_minor": 5
}
