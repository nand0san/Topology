{
 "cells": [
  {
   "cell_type": "code",
   "execution_count": 1,
   "id": "initial_id",
   "metadata": {
    "ExecuteTime": {
     "end_time": "2024-10-07T12:06:00.779296Z",
     "start_time": "2024-10-07T12:06:00.766982Z"
    }
   },
   "outputs": [],
   "source": [
    "from finite_topology.topology import Topology\n",
    "from finite_topology.known_topologies import create_alexandrov_topology"
   ]
  },
  {
   "cell_type": "markdown",
   "id": "423bac95160e7fba",
   "metadata": {},
   "source": [
    "### **1. Definitions of Separation Axioms $T_0$, $T_1$, and $T_2$ (Hausdorff)**\n",
    "\n",
    "#### **Axiom $T_0$ ($T_0$ Space)**\n",
    "\n",
    "**Definition:**\n",
    "A topological space $(X, \\tau)$ is **$T_0$** if **for every pair of distinct points**, at least one of them has a **neighborhood** that does not contain the other. In other words, **no two points are topologically indistinguishable**.\n",
    "\n",
    "**Formally:**\n",
    "For any $x, y \\in X$ with $x \\neq y$, **there exists** an open set $U$ such that either $x \\in U$ and $y \\notin U$, **or** $y \\in U$ and $x \\notin U$.\n",
    "\n",
    "**Example:**\n",
    "Consider the space $X = \\{a, b\\}$ with the topology $\\tau = \\{\\emptyset, \\{a\\}, X\\}$. This space is **$T_0$** because:\n",
    "- For points $a$ and $b$:\n",
    "  - $a$ is in $\\{a\\}$, but $b$ is not.\n",
    "  - There is no open set containing $b$ that does not contain $a$, but the condition only requires that **at least one** of the points has such a neighborhood.\n",
    "\n"
   ]
  },
  {
   "cell_type": "code",
   "execution_count": 2,
   "id": "2ca77c0b4c374534",
   "metadata": {
    "ExecuteTime": {
     "end_time": "2024-10-07T12:06:00.822206Z",
     "start_time": "2024-10-07T12:06:00.810979Z"
    }
   },
   "outputs": [
    {
     "data": {
      "text/plain": [
       "Topology(\n",
       "  Space: ['a', 'b', 'c'],\n",
       "  Collection of Subsets:\n",
       "    ['a', 'b', 'c']\n",
       "    []\n",
       "    ['a']\n",
       "    ['a', 'b']\n",
       ")"
      ]
     },
     "execution_count": 2,
     "metadata": {},
     "output_type": "execute_result"
    }
   ],
   "source": [
    "space_T0 = {'a', 'b', 'c'}\n",
    "collection_T0 = [\n",
    "    set(),\n",
    "    {'a', 'b', 'c'},\n",
    "    {'a', 'b'},\n",
    "    {'a'},\n",
    "]\n",
    "topo_T0 = Topology(space_T0, collection_T0)\n",
    "topo_T0"
   ]
  },
  {
   "cell_type": "code",
   "execution_count": 3,
   "id": "2d96fd342342f3a5",
   "metadata": {
    "ExecuteTime": {
     "end_time": "2024-10-07T12:06:01.198661Z",
     "start_time": "2024-10-07T12:06:01.191648Z"
    }
   },
   "outputs": [
    {
     "name": "stdout",
     "output_type": "stream",
     "text": [
      "¿Is T0 space? True\n"
     ]
    }
   ],
   "source": [
    "print(f\"¿Is T0 space? {topo_T0.is_T0()}\")"
   ]
  },
  {
   "cell_type": "code",
   "execution_count": 4,
   "id": "e21cfb89272c51f1",
   "metadata": {
    "ExecuteTime": {
     "end_time": "2024-10-07T12:06:01.236621Z",
     "start_time": "2024-10-07T12:06:01.227596Z"
    }
   },
   "outputs": [
    {
     "data": {
      "text/plain": [
       "Topology(\n",
       "  Space: ['a', 'b', 'c'],\n",
       "  Collection of Subsets:\n",
       "    ['a', 'b', 'c']\n",
       "    []\n",
       "    ['a', 'b']\n",
       ")"
      ]
     },
     "execution_count": 4,
     "metadata": {},
     "output_type": "execute_result"
    }
   ],
   "source": [
    "# Space definition T0\n",
    "space_T0 = {'a', 'b', 'c'}\n",
    "collection_T0 = [\n",
    "    set(),\n",
    "    {'a', 'b', 'c'},\n",
    "    {'a', 'b'},\n",
    "]\n",
    "topo_T0 = Topology(space_T0, collection_T0)\n",
    "topo_T0"
   ]
  },
  {
   "cell_type": "code",
   "execution_count": 5,
   "id": "8bdbb08034bcf11f",
   "metadata": {
    "ExecuteTime": {
     "end_time": "2024-10-07T12:06:01.294097Z",
     "start_time": "2024-10-07T12:06:01.288541Z"
    }
   },
   "outputs": [
    {
     "name": "stdout",
     "output_type": "stream",
     "text": [
      "Cannot separate b and a in a T0 space.\n",
      "¿Is T0? False\n"
     ]
    }
   ],
   "source": [
    "# Verify T0\n",
    "print(f\"¿Is T0? {topo_T0.is_T0()}\")"
   ]
  },
  {
   "cell_type": "markdown",
   "id": "4958b169da7287ac",
   "metadata": {},
   "source": [
    "#### **Axiom $T_1$ ($T_1$ Space)**\n",
    "\n",
    "**Definition:**\n",
    "A topological space $(X, \\tau)$ is **$T_1$** if **for every pair of distinct points**, each has a **neighborhood** that **does not contain the other**. In other words, **every point is closed**.\n",
    "\n",
    "**Formally:**\n",
    "For any $x, y \\in X$ with $x \\neq y$, there exist open sets $U$ and $V$ such that:\n",
    "- $x \\in U$ and $y \\notin U$\n",
    "- $y \\in V$ and $x \\notin V$\n",
    "\n",
    "**Example:**\n",
    "The space $X = \\{a, b\\}$ with the topology $\\tau = \\{\\emptyset, \\{a\\}, \\{b\\}, X\\}$ is **$T_1** because:\n",
    "- For $a$ and $b$:\n",
    "  - $a \\in \\{a\\}$ and $b \\notin \\{a\\}$\n",
    "  - $b \\in \\{b\\}$ and $a \\notin \\{b\\}$"
   ]
  },
  {
   "cell_type": "code",
   "execution_count": 6,
   "id": "d14bd52f8ce4453a",
   "metadata": {
    "ExecuteTime": {
     "end_time": "2024-10-07T12:06:01.359969Z",
     "start_time": "2024-10-07T12:06:01.353348Z"
    }
   },
   "outputs": [],
   "source": [
    "space_T1 = {'a', 'b', 'c'}\n",
    "collection_T1 = [\n",
    "    set(),\n",
    "    {'a', 'b', 'c'},\n",
    "    {'a', 'b'},\n",
    "    {'b', 'c'},\n",
    "    {'a'},\n",
    "    {'b'},\n",
    "    {'c'}\n",
    "]\n",
    "topo_T1 = Topology(space_T1, collection_T1)"
   ]
  },
  {
   "cell_type": "code",
   "execution_count": 7,
   "id": "f8272df6-1eda-4700-bcf9-f55ef6e1c253",
   "metadata": {},
   "outputs": [
    {
     "name": "stdout",
     "output_type": "stream",
     "text": [
      "The union {'c', 'a'} is not in the collection.\n"
     ]
    },
    {
     "data": {
      "text/plain": [
       "False"
      ]
     },
     "execution_count": 7,
     "metadata": {},
     "output_type": "execute_result"
    }
   ],
   "source": [
    "topo_T1.is_discrete()"
   ]
  },
  {
   "cell_type": "code",
   "execution_count": 8,
   "id": "862dbc8fcf236a87",
   "metadata": {
    "ExecuteTime": {
     "end_time": "2024-10-07T12:06:01.404498Z",
     "start_time": "2024-10-07T12:06:01.398928Z"
    }
   },
   "outputs": [
    {
     "name": "stdout",
     "output_type": "stream",
     "text": [
      "Point b is not closed, complement {'c', 'a'} is not open.\n",
      "¿Is T1? False\n"
     ]
    }
   ],
   "source": [
    "print(f\"¿Is T1? {topo_T1.is_T1()}\")"
   ]
  },
  {
   "cell_type": "code",
   "execution_count": 9,
   "id": "5ed137a3e7b97383",
   "metadata": {
    "ExecuteTime": {
     "end_time": "2024-10-07T12:06:01.449602Z",
     "start_time": "2024-10-07T12:06:01.441866Z"
    }
   },
   "outputs": [],
   "source": [
    "# Definir el espacio y una topología T1\n",
    "space_T1 = {'a', 'b', 'c'}\n",
    "collection_T1 = [\n",
    "    set(),\n",
    "    {'a', 'b', 'c'},\n",
    "    {'a', 'b'}, {'c', 'b'}, {'a', 'c'},\n",
    "    {'a'},\n",
    "    {'b'},\n",
    "]\n",
    "topo_T1 = Topology(space_T1, collection_T1)"
   ]
  },
  {
   "cell_type": "code",
   "execution_count": 10,
   "id": "6ee449f6-a131-4f42-9a30-5d5c708a7524",
   "metadata": {},
   "outputs": [
    {
     "name": "stdout",
     "output_type": "stream",
     "text": [
      "The intersection {'c'} is not in the collection.\n"
     ]
    },
    {
     "data": {
      "text/plain": [
       "False"
      ]
     },
     "execution_count": 10,
     "metadata": {},
     "output_type": "execute_result"
    }
   ],
   "source": [
    "topo_T1.is_discrete()"
   ]
  },
  {
   "cell_type": "code",
   "execution_count": 11,
   "id": "178d340e3baeb4e3",
   "metadata": {
    "ExecuteTime": {
     "end_time": "2024-10-07T12:06:01.486948Z",
     "start_time": "2024-10-07T12:06:01.478702Z"
    }
   },
   "outputs": [
    {
     "name": "stdout",
     "output_type": "stream",
     "text": [
      "¿Is T1? True\n"
     ]
    }
   ],
   "source": [
    "# Verificar si es T1\n",
    "print(f\"¿Is T1? {topo_T1.is_T1()}\")"
   ]
  },
  {
   "cell_type": "markdown",
   "id": "5c8cdb059da522d2",
   "metadata": {},
   "source": [
    "### **Connected Spaces**\n",
    "\n",
    "A topological space is **connected** if it is not possible to partition it into two disjoint non-empty open sets whose union is the entire space. In other words, a space is connected if there are no non-trivial open sets that are both open and closed.\n",
    "\n",
    "**Key Property:**\n",
    "If a space can be divided into two disjoint open sets whose union is the entire space, it is **disconnected**."
   ]
  },
  {
   "cell_type": "code",
   "execution_count": 12,
   "id": "7c4773ea443c8f78",
   "metadata": {
    "ExecuteTime": {
     "end_time": "2024-10-07T12:06:01.538165Z",
     "start_time": "2024-10-07T12:06:01.530141Z"
    }
   },
   "outputs": [
    {
     "name": "stdout",
     "output_type": "stream",
     "text": [
      "Space separated into U=[1] and V=[2, 3].\n",
      "¿Is connected? False\n"
     ]
    }
   ],
   "source": [
    "space = {1, 2, 3}\n",
    "collection_of_subsets = [\n",
    "    set(),\n",
    "    {1, 2, 3},\n",
    "    {1},\n",
    "    {2},\n",
    "    {3},\n",
    "    {1, 2},\n",
    "    {1, 3},\n",
    "    {2, 3}\n",
    "]\n",
    "topo = Topology(space, collection_of_subsets)\n",
    "\n",
    "print(f\"¿Is connected? {topo.is_connected()}\")"
   ]
  },
  {
   "cell_type": "code",
   "execution_count": 13,
   "id": "4c3d2559517de8d5",
   "metadata": {
    "ExecuteTime": {
     "end_time": "2024-10-07T12:06:01.603460Z",
     "start_time": "2024-10-07T12:06:01.592698Z"
    }
   },
   "outputs": [
    {
     "data": {
      "text/plain": [
       "Topology(\n",
       "  Space: [1, 2, 3, 4],\n",
       "  Collection of Subsets:\n",
       "    [1, 2, 3, 4]\n",
       "    []\n",
       "    [1, 2]\n",
       ")"
      ]
     },
     "execution_count": 13,
     "metadata": {},
     "output_type": "execute_result"
    }
   ],
   "source": [
    "space = {1, 2, 3, 4}\n",
    "collection_of_subsets = [\n",
    "    set(),\n",
    "    space,\n",
    "    {1, 2},\n",
    "]\n",
    "topo = Topology(space, collection_of_subsets)\n",
    "topo"
   ]
  },
  {
   "cell_type": "code",
   "execution_count": 14,
   "id": "9a209fac6c76bee3",
   "metadata": {
    "ExecuteTime": {
     "end_time": "2024-10-07T12:06:01.660889Z",
     "start_time": "2024-10-07T12:06:01.654671Z"
    }
   },
   "outputs": [
    {
     "name": "stdout",
     "output_type": "stream",
     "text": [
      "¿Is connected? True\n"
     ]
    }
   ],
   "source": [
    "print(f\"¿Is connected? {topo.is_connected()}\")"
   ]
  },
  {
   "cell_type": "markdown",
   "id": "1ae11793dbc17a98",
   "metadata": {},
   "source": [
    "### **Connectedness in Alexandrov Spaces**\n",
    "\n",
    "In Alexandrov topologies, connectedness can be analyzed similarly by checking whether the space can be partitioned into disjoint open sets. However, Alexandrov spaces often exhibit unique properties due to the fact that arbitrary intersections of open sets are also open."
   ]
  },
  {
   "cell_type": "code",
   "execution_count": 15,
   "id": "3b3c8d034fbd8fdd",
   "metadata": {
    "ExecuteTime": {
     "end_time": "2024-10-07T12:06:01.740545Z",
     "start_time": "2024-10-07T12:06:01.730335Z"
    }
   },
   "outputs": [
    {
     "data": {
      "text/plain": [
       "Topology(\n",
       "  Space: ['a', 'b', 'c'],\n",
       "  Collection of Subsets:\n",
       "    ['a', 'b', 'c']\n",
       "    []\n",
       "    ['c']\n",
       "    ['b', 'c']\n",
       ")"
      ]
     },
     "execution_count": 15,
     "metadata": {},
     "output_type": "execute_result"
    }
   ],
   "source": [
    "space = {'a', 'b', 'c'}\n",
    "\n",
    "# Define the order relation\n",
    "def order_relation(x, y):\n",
    "    return x <= y  # Standard less than or equal\n",
    "\n",
    "# Create the topology\n",
    "alexandrov_topo = create_alexandrov_topology(space, order_relation)\n",
    "alexandrov_topo"
   ]
  },
  {
   "cell_type": "code",
   "execution_count": 16,
   "id": "a965d39b01c8eb45",
   "metadata": {
    "ExecuteTime": {
     "end_time": "2024-10-07T12:06:01.838041Z",
     "start_time": "2024-10-07T12:06:01.832811Z"
    }
   },
   "outputs": [
    {
     "name": "stdout",
     "output_type": "stream",
     "text": [
      "Is the Alexandrov topology connected? True\n"
     ]
    }
   ],
   "source": [
    "# Check if it is connected\n",
    "print(f\"Is the Alexandrov topology connected? {alexandrov_topo.is_connected()}\")"
   ]
  },
  {
   "cell_type": "markdown",
   "id": "489d73e882cb1087",
   "metadata": {},
   "source": [
    "### **Compactness**\n",
    "\n",
    "In finite topological spaces, compactness is **trivial**, as every finite topology is compact.\n",
    "\n",
    "#### **Formal Definition**\n",
    "\n",
    "A topological space $(X, \\tau)$ is **compact** if **every open cover** of $X$ has a **finite subcover**.\n",
    "\n",
    "$$\n",
    "\\text{A space is compact if every open cover has a finite subcover.}\n",
    "$$\n",
    "\n",
    "**Key Concept:**\n",
    "In finite topologies, since the number of open sets is limited, it is always possible to cover the entire space with a finite number of open sets."
   ]
  },
  {
   "cell_type": "code",
   "execution_count": 17,
   "id": "6063a8deae4a19d2",
   "metadata": {
    "ExecuteTime": {
     "end_time": "2024-10-07T12:06:01.957118Z",
     "start_time": "2024-10-07T12:06:01.947061Z"
    }
   },
   "outputs": [
    {
     "data": {
      "text/plain": [
       "(True, True)"
      ]
     },
     "execution_count": 17,
     "metadata": {},
     "output_type": "execute_result"
    }
   ],
   "source": [
    "topo.is_compact(), alexandrov_topo.is_compact()"
   ]
  },
  {
   "cell_type": "markdown",
   "id": "b10b3c181e0f4c4b",
   "metadata": {},
   "source": [
    "### **$T_2$ Axiom (Hausdorff Space $T_2$)**\n",
    "\n",
    "#### **Definition:**\n",
    "A topological space $(X, \\tau)$ is called **Hausdorff** or **$T_2$** if **any two distinct points** can be **separated** by **disjoint open neighborhoods**. This means that **there exist two open sets** $U$ and $V$ such that:\n",
    "- $x \\in U$,\n",
    "- $y \\in V$,\n",
    "- $U \\cap V = \\emptyset$.\n",
    "\n",
    "#### **Formally:**\n",
    "For any $x, y \\in X$ with $x \\neq y$, there exist open sets $U$ and $V$ such that:\n",
    "- $x \\in U$,\n",
    "- $y \\in V$,\n",
    "- $U \\cap V = \\emptyset$.\n",
    "\n",
    "#### **Example:**\n",
    "The space $\\mathbb{R}$ with the standard topology (usual open sets) is **Hausdorff** because for any pair of points $x < y$, you can choose $U = (x - \\epsilon, x + \\epsilon)$ and $V = (y - \\epsilon, y + \\epsilon)$ with $\\epsilon$ sufficiently small so that $U$ and $V$ are disjoint.\n",
    "\n",
    "### **Explanation of the Method:**\n",
    "\n",
    "1. **Iterating Over Pairs of Points:**\n",
    "   \n",
    "   We use `combinations(self.space, 2)` to generate all distinct pairs of points in the space.\n",
    "\n",
    "2. **Finding Separating Open Sets:**\n",
    "   \n",
    "   For each pair $(x, y)$, we look for open sets $U$ and $V$ such that $x \\in U$, $y \\in V$, and $U \\cap V = \\emptyset$.\n",
    "\n",
    "3. **Verification of Disjoint Sets:**\n",
    "   \n",
    "   We use the `isdisjoint` method to verify that $U$ and $V$ have no elements in common.\n",
    "\n",
    "4. **Result:**\n",
    "   \n",
    "   - If we find at least one pair $(U, V)$ that separates $x$ and $y$, we continue to the next pair.\n",
    "   - If we do not find such a pair for any $(x, y)$, the space is **not** Hausdorff, and we return `False`.\n",
    "\n",
    "5. **Conclusion:**\n",
    "   \n",
    "   If all pairs of points can be separated, the space is Hausdorff, and we return `True`.\n"
   ]
  },
  {
   "cell_type": "code",
   "execution_count": 18,
   "id": "f03ec6afd72c8979",
   "metadata": {
    "ExecuteTime": {
     "end_time": "2024-10-07T12:06:02.067406Z",
     "start_time": "2024-10-07T12:06:02.055741Z"
    }
   },
   "outputs": [
    {
     "data": {
      "text/plain": [
       "Topology(\n",
       "  Space: [1, 2, 3],\n",
       "  Collection of Subsets:\n",
       "    [1, 2, 3]\n",
       "    []\n",
       "    [2]\n",
       "    [3]\n",
       "    [1]\n",
       "    [2, 3]\n",
       "    [1, 2]\n",
       "    [1, 3]\n",
       ")"
      ]
     },
     "execution_count": 18,
     "metadata": {},
     "output_type": "execute_result"
    }
   ],
   "source": [
    "space = {1, 2, 3}\n",
    "collection_of_subsets = [\n",
    "    set(),\n",
    "    {1, 2, 3},\n",
    "    {1},\n",
    "    {2},\n",
    "    {3},\n",
    "    {1, 2},\n",
    "    {1, 3},\n",
    "    {2, 3}\n",
    "]\n",
    "topo = Topology(space, collection_of_subsets)\n",
    "topo"
   ]
  },
  {
   "cell_type": "code",
   "execution_count": 19,
   "id": "b2ad2765b3f86214",
   "metadata": {
    "ExecuteTime": {
     "end_time": "2024-10-07T12:06:02.121446Z",
     "start_time": "2024-10-07T12:06:02.115382Z"
    }
   },
   "outputs": [
    {
     "name": "stdout",
     "output_type": "stream",
     "text": [
      "Is the space Hausdorff? True\n"
     ]
    }
   ],
   "source": [
    "# Check if it is Hausdorff\n",
    "print(f\"Is the space Hausdorff? {topo.is_hausdorff()}\")"
   ]
  },
  {
   "cell_type": "markdown",
   "id": "d9a637fd4caf26eb",
   "metadata": {},
   "source": [
    "### **Dense Sets**\n",
    "\n",
    "A **dense subset** of a topological space $(X, \\tau)$ is a subset $A \\subseteq X$ such that the **closure** of $A$ is equal to $X$. This means that every point in $X$ is either in $A$ or is a **limit point** of $A$.\n",
    "\n",
    "**Formal Definition:**\n",
    "\n",
    "$$\n",
    "\\text{Dense}(A) = \\overline{A} = X\n",
    "$$"
   ]
  },
  {
   "cell_type": "code",
   "execution_count": 20,
   "id": "ef6fe619b64cb43f",
   "metadata": {
    "ExecuteTime": {
     "end_time": "2024-10-07T12:06:02.177067Z",
     "start_time": "2024-10-07T12:06:02.168942Z"
    }
   },
   "outputs": [
    {
     "data": {
      "text/plain": [
       "Topology(\n",
       "  Space: [1, 2, 3],\n",
       "  Collection of Subsets:\n",
       "    [1, 2, 3]\n",
       "    []\n",
       "    [2]\n",
       "    [3]\n",
       "    [1]\n",
       "    [2, 3]\n",
       "    [1, 2]\n",
       "    [1, 3]\n",
       ")"
      ]
     },
     "execution_count": 20,
     "metadata": {},
     "output_type": "execute_result"
    }
   ],
   "source": [
    "space = {1, 2, 3}\n",
    "collection_of_subsets = [\n",
    "    set(),\n",
    "    {1, 2, 3},\n",
    "    {1},\n",
    "    {2},\n",
    "    {3},\n",
    "    {1, 2},\n",
    "    {1, 3},\n",
    "    {2, 3}\n",
    "]\n",
    "topo = Topology(space, collection_of_subsets)\n",
    "topo"
   ]
  },
  {
   "cell_type": "code",
   "execution_count": 21,
   "id": "ae241d2c7df23dad",
   "metadata": {
    "ExecuteTime": {
     "end_time": "2024-10-07T12:06:02.227240Z",
     "start_time": "2024-10-07T12:06:02.219805Z"
    }
   },
   "outputs": [
    {
     "data": {
      "text/plain": [
       "{1, 2, 3}"
      ]
     },
     "execution_count": 21,
     "metadata": {},
     "output_type": "execute_result"
    }
   ],
   "source": [
    "topo.find_dense_subset()"
   ]
  },
  {
   "cell_type": "markdown",
   "id": "95a9c511c9f30c14",
   "metadata": {},
   "source": [
    "### **Separable Space**\n",
    "\n",
    "#### **Definition:**\n",
    "\n",
    "A topological space $(X, \\tau)$ is **separable** if there exists a **countable subset** that is **dense** in $X$. In other words, there is a finite or countably infinite set of points whose **closure** is the entire space $X$.\n",
    "\n",
    "**Formally:**\n",
    "\n",
    "There exists a sequence $\\{x_n\\}_{n=1}^\\infty \\subseteq X$ such that for every non-empty open set $U \\in \\tau$, $U$ contains at least one point from the sequence.\n",
    "\n",
    "**Importance:**\n",
    "- **Functional Analysis**: Many important functional spaces are separable.\n",
    "- **Lindelöf Property**: In metric spaces, separability implies the Lindelöf property.\n",
    "- **Problem Simplification**: Allows the use of a countable basis in many cases.\n",
    "\n",
    "**Python Implementation:**\n",
    "To check if a space is separable, we need to find a countable set whose closure is the entire space. In finite spaces, any non-empty set is dense if its closure is the whole space."
   ]
  },
  {
   "cell_type": "code",
   "execution_count": 22,
   "id": "beda550ea5ec528e",
   "metadata": {
    "ExecuteTime": {
     "end_time": "2024-10-07T12:06:02.270179Z",
     "start_time": "2024-10-07T12:06:02.258457Z"
    }
   },
   "outputs": [
    {
     "data": {
      "text/plain": [
       "Topology(\n",
       "  Space: [1, 2, 3],\n",
       "  Collection of Subsets:\n",
       "    [1, 2, 3]\n",
       "    []\n",
       "    [2]\n",
       "    [3]\n",
       "    [1]\n",
       "    [2, 3]\n",
       "    [1, 2]\n",
       "    [1, 3]\n",
       ")"
      ]
     },
     "execution_count": 22,
     "metadata": {},
     "output_type": "execute_result"
    }
   ],
   "source": [
    "space = {1, 2, 3}\n",
    "collection_of_subsets = [\n",
    "    set(),\n",
    "    {1, 2, 3},\n",
    "    {1},\n",
    "    {2},\n",
    "    {3},\n",
    "    {1, 2},\n",
    "    {1, 3},\n",
    "    {2, 3}\n",
    "]\n",
    "topo = Topology(space, collection_of_subsets)\n",
    "topo"
   ]
  },
  {
   "cell_type": "code",
   "execution_count": 23,
   "id": "1e7d4c2fdd2c546c",
   "metadata": {
    "ExecuteTime": {
     "end_time": "2024-10-07T12:06:02.340507Z",
     "start_time": "2024-10-07T12:06:02.332339Z"
    }
   },
   "outputs": [
    {
     "data": {
      "text/plain": [
       "{1, 2, 3}"
      ]
     },
     "execution_count": 23,
     "metadata": {},
     "output_type": "execute_result"
    }
   ],
   "source": [
    "topo.find_dense_subset()"
   ]
  },
  {
   "cell_type": "code",
   "execution_count": 24,
   "id": "416cdc7dab1f0432",
   "metadata": {
    "ExecuteTime": {
     "end_time": "2024-10-07T12:06:02.388736Z",
     "start_time": "2024-10-07T12:06:02.382063Z"
    }
   },
   "outputs": [
    {
     "data": {
      "text/plain": [
       "True"
      ]
     },
     "execution_count": 24,
     "metadata": {},
     "output_type": "execute_result"
    }
   ],
   "source": [
    "topo.is_separable()"
   ]
  },
  {
   "cell_type": "code",
   "execution_count": null,
   "id": "36e7162d2ebcf15f",
   "metadata": {
    "ExecuteTime": {
     "end_time": "2024-10-07T12:06:02.489565Z",
     "start_time": "2024-10-07T12:06:02.485804Z"
    }
   },
   "outputs": [],
   "source": []
  }
 ],
 "metadata": {
  "kernelspec": {
   "display_name": "Python 3 (ipykernel)",
   "language": "python",
   "name": "python3"
  },
  "language_info": {
   "codemirror_mode": {
    "name": "ipython",
    "version": 3
   },
   "file_extension": ".py",
   "mimetype": "text/x-python",
   "name": "python",
   "nbconvert_exporter": "python",
   "pygments_lexer": "ipython3",
   "version": "3.11.2"
  }
 },
 "nbformat": 4,
 "nbformat_minor": 5
}
